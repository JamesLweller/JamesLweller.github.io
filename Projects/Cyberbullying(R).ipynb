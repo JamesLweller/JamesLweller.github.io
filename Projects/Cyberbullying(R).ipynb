{
 "cells": [
  {
   "cell_type": "markdown",
   "metadata": {},
   "source": [
    "# Introduction"
   ]
  },
  {
   "cell_type": "markdown",
   "metadata": {},
   "source": [
    "This project looks at self-reported cyber-victimization data. Participants completed four psychometrics tests looking at depression, anxiety, alcohol uses and Cyber-Victimization. There were 243 participants (102 Males & 141 Females, 145 students & 98 non-student participants) that completed this research. This project has two purposes, the first is to clean the dataset (remove unnecessary columns, rename the columns and recode the data into the correct format). Secondly, to test the two research question. Firstly, *Is there a significant relationship between cyberbullying & depression, anxiety, and alcohol use?*. The second question is *Do victims of cyberbullying score higher for depression, anxiety and alcohol use compared to non-victims?*\n",
    "\n",
    "The tools used to collect the data were:\n",
    "\n",
    "Patient Health Questionnaire 9-item [PHQ-9] (https://www.integration.samhsa.gov/images/res/PHQ%20-%20Questions.pdf)\n",
    "\n",
    "Generalized Anxiety Disorder 7-item [GAD-7] (https://www.integration.samhsa.gov/clinical-practice/GAD708.19.08Cartwright.pdf)\n",
    "\n",
    "Alcohol Use Disorders Identification Test [AUDIT] (https://pubs.niaaa.nih.gov/publications/Audit.pdf)\n",
    "\n",
    "Cyber-Victimization Questionnaire [CVS] (https://www.researchgate.net/publication/263920031_Cyber-_and_Traditional_Peer_Victimization_Unique_Relationships_With_Adolescent_Well-Being)"
   ]
  },
  {
   "cell_type": "code",
   "execution_count": 1,
   "metadata": {},
   "outputs": [
    {
     "name": "stderr",
     "output_type": "stream",
     "text": [
      "\n",
      "Attaching package: ‘dplyr’\n",
      "\n",
      "The following object is masked from ‘package:car’:\n",
      "\n",
      "    recode\n",
      "\n",
      "The following objects are masked from ‘package:stats’:\n",
      "\n",
      "    filter, lag\n",
      "\n",
      "The following objects are masked from ‘package:base’:\n",
      "\n",
      "    intersect, setdiff, setequal, union\n",
      "\n",
      "\n",
      "Attaching package: ‘MASS’\n",
      "\n",
      "The following object is masked from ‘package:dplyr’:\n",
      "\n",
      "    select\n",
      "\n"
     ]
    }
   ],
   "source": [
    "set.seed(1234)\n",
    "\n",
    "library(car)\n",
    "library(dplyr)\n",
    "library(MASS)\n",
    "library(ggplot2)"
   ]
  },
  {
   "cell_type": "code",
   "execution_count": 2,
   "metadata": {
    "scrolled": true
   },
   "outputs": [
    {
     "data": {
      "text/html": [
       "<ol class=list-inline>\n",
       "\t<li>'StartDate'</li>\n",
       "\t<li>'EndDate'</li>\n",
       "\t<li>'Status'</li>\n",
       "\t<li>'IPAddress'</li>\n",
       "\t<li>'Progress'</li>\n",
       "\t<li>'Duration..in.seconds.'</li>\n",
       "\t<li>'Finished'</li>\n",
       "\t<li>'RecordedDate'</li>\n",
       "\t<li>'ResponseId'</li>\n",
       "\t<li>'RecipientLastName'</li>\n",
       "\t<li>'RecipientFirstName'</li>\n",
       "\t<li>'RecipientEmail'</li>\n",
       "\t<li>'ExternalReference'</li>\n",
       "\t<li>'LocationLatitude'</li>\n",
       "\t<li>'LocationLongitude'</li>\n",
       "\t<li>'DistributionChannel'</li>\n",
       "\t<li>'UserLanguage'</li>\n",
       "\t<li>'Q3'</li>\n",
       "\t<li>'Q5_1'</li>\n",
       "\t<li>'Q5_2'</li>\n",
       "\t<li>'Q5_3'</li>\n",
       "\t<li>'Q5_4'</li>\n",
       "\t<li>'Q5_5'</li>\n",
       "\t<li>'Q18'</li>\n",
       "\t<li>'Q20'</li>\n",
       "\t<li>'Q22'</li>\n",
       "\t<li>'Q48'</li>\n",
       "\t<li>'Q45_1'</li>\n",
       "\t<li>'Q45_2'</li>\n",
       "\t<li>'Q45_3'</li>\n",
       "\t<li>'Q45_4'</li>\n",
       "\t<li>'Q45_5'</li>\n",
       "\t<li>'Q45_6'</li>\n",
       "\t<li>'Q36_1'</li>\n",
       "\t<li>'Q36_2'</li>\n",
       "\t<li>'Q36_3'</li>\n",
       "\t<li>'Q36_4'</li>\n",
       "\t<li>'Q36_5'</li>\n",
       "\t<li>'Q36_6'</li>\n",
       "\t<li>'Q36_7'</li>\n",
       "\t<li>'Q27_1'</li>\n",
       "\t<li>'Q27_2'</li>\n",
       "\t<li>'Q27_3'</li>\n",
       "\t<li>'Q27_4'</li>\n",
       "\t<li>'Q27_5'</li>\n",
       "\t<li>'Q27_6'</li>\n",
       "\t<li>'Q27_7'</li>\n",
       "\t<li>'Q27_8'</li>\n",
       "\t<li>'Q27_9'</li>\n",
       "\t<li>'Q30'</li>\n",
       "\t<li>'Q32'</li>\n",
       "\t<li>'Q34'</li>\n",
       "\t<li>'Q36'</li>\n",
       "\t<li>'Q38'</li>\n",
       "\t<li>'Q40'</li>\n",
       "\t<li>'Q42'</li>\n",
       "\t<li>'Q44'</li>\n",
       "\t<li>'Q46'</li>\n",
       "\t<li>'Q48.1'</li>\n",
       "\t<li>'Q3...Topics'</li>\n",
       "</ol>\n"
      ],
      "text/latex": [
       "\\begin{enumerate*}\n",
       "\\item 'StartDate'\n",
       "\\item 'EndDate'\n",
       "\\item 'Status'\n",
       "\\item 'IPAddress'\n",
       "\\item 'Progress'\n",
       "\\item 'Duration..in.seconds.'\n",
       "\\item 'Finished'\n",
       "\\item 'RecordedDate'\n",
       "\\item 'ResponseId'\n",
       "\\item 'RecipientLastName'\n",
       "\\item 'RecipientFirstName'\n",
       "\\item 'RecipientEmail'\n",
       "\\item 'ExternalReference'\n",
       "\\item 'LocationLatitude'\n",
       "\\item 'LocationLongitude'\n",
       "\\item 'DistributionChannel'\n",
       "\\item 'UserLanguage'\n",
       "\\item 'Q3'\n",
       "\\item 'Q5\\_1'\n",
       "\\item 'Q5\\_2'\n",
       "\\item 'Q5\\_3'\n",
       "\\item 'Q5\\_4'\n",
       "\\item 'Q5\\_5'\n",
       "\\item 'Q18'\n",
       "\\item 'Q20'\n",
       "\\item 'Q22'\n",
       "\\item 'Q48'\n",
       "\\item 'Q45\\_1'\n",
       "\\item 'Q45\\_2'\n",
       "\\item 'Q45\\_3'\n",
       "\\item 'Q45\\_4'\n",
       "\\item 'Q45\\_5'\n",
       "\\item 'Q45\\_6'\n",
       "\\item 'Q36\\_1'\n",
       "\\item 'Q36\\_2'\n",
       "\\item 'Q36\\_3'\n",
       "\\item 'Q36\\_4'\n",
       "\\item 'Q36\\_5'\n",
       "\\item 'Q36\\_6'\n",
       "\\item 'Q36\\_7'\n",
       "\\item 'Q27\\_1'\n",
       "\\item 'Q27\\_2'\n",
       "\\item 'Q27\\_3'\n",
       "\\item 'Q27\\_4'\n",
       "\\item 'Q27\\_5'\n",
       "\\item 'Q27\\_6'\n",
       "\\item 'Q27\\_7'\n",
       "\\item 'Q27\\_8'\n",
       "\\item 'Q27\\_9'\n",
       "\\item 'Q30'\n",
       "\\item 'Q32'\n",
       "\\item 'Q34'\n",
       "\\item 'Q36'\n",
       "\\item 'Q38'\n",
       "\\item 'Q40'\n",
       "\\item 'Q42'\n",
       "\\item 'Q44'\n",
       "\\item 'Q46'\n",
       "\\item 'Q48.1'\n",
       "\\item 'Q3...Topics'\n",
       "\\end{enumerate*}\n"
      ],
      "text/markdown": [
       "1. 'StartDate'\n",
       "2. 'EndDate'\n",
       "3. 'Status'\n",
       "4. 'IPAddress'\n",
       "5. 'Progress'\n",
       "6. 'Duration..in.seconds.'\n",
       "7. 'Finished'\n",
       "8. 'RecordedDate'\n",
       "9. 'ResponseId'\n",
       "10. 'RecipientLastName'\n",
       "11. 'RecipientFirstName'\n",
       "12. 'RecipientEmail'\n",
       "13. 'ExternalReference'\n",
       "14. 'LocationLatitude'\n",
       "15. 'LocationLongitude'\n",
       "16. 'DistributionChannel'\n",
       "17. 'UserLanguage'\n",
       "18. 'Q3'\n",
       "19. 'Q5_1'\n",
       "20. 'Q5_2'\n",
       "21. 'Q5_3'\n",
       "22. 'Q5_4'\n",
       "23. 'Q5_5'\n",
       "24. 'Q18'\n",
       "25. 'Q20'\n",
       "26. 'Q22'\n",
       "27. 'Q48'\n",
       "28. 'Q45_1'\n",
       "29. 'Q45_2'\n",
       "30. 'Q45_3'\n",
       "31. 'Q45_4'\n",
       "32. 'Q45_5'\n",
       "33. 'Q45_6'\n",
       "34. 'Q36_1'\n",
       "35. 'Q36_2'\n",
       "36. 'Q36_3'\n",
       "37. 'Q36_4'\n",
       "38. 'Q36_5'\n",
       "39. 'Q36_6'\n",
       "40. 'Q36_7'\n",
       "41. 'Q27_1'\n",
       "42. 'Q27_2'\n",
       "43. 'Q27_3'\n",
       "44. 'Q27_4'\n",
       "45. 'Q27_5'\n",
       "46. 'Q27_6'\n",
       "47. 'Q27_7'\n",
       "48. 'Q27_8'\n",
       "49. 'Q27_9'\n",
       "50. 'Q30'\n",
       "51. 'Q32'\n",
       "52. 'Q34'\n",
       "53. 'Q36'\n",
       "54. 'Q38'\n",
       "55. 'Q40'\n",
       "56. 'Q42'\n",
       "57. 'Q44'\n",
       "58. 'Q46'\n",
       "59. 'Q48.1'\n",
       "60. 'Q3...Topics'\n",
       "\n",
       "\n"
      ],
      "text/plain": [
       " [1] \"StartDate\"             \"EndDate\"               \"Status\"               \n",
       " [4] \"IPAddress\"             \"Progress\"              \"Duration..in.seconds.\"\n",
       " [7] \"Finished\"              \"RecordedDate\"          \"ResponseId\"           \n",
       "[10] \"RecipientLastName\"     \"RecipientFirstName\"    \"RecipientEmail\"       \n",
       "[13] \"ExternalReference\"     \"LocationLatitude\"      \"LocationLongitude\"    \n",
       "[16] \"DistributionChannel\"   \"UserLanguage\"          \"Q3\"                   \n",
       "[19] \"Q5_1\"                  \"Q5_2\"                  \"Q5_3\"                 \n",
       "[22] \"Q5_4\"                  \"Q5_5\"                  \"Q18\"                  \n",
       "[25] \"Q20\"                   \"Q22\"                   \"Q48\"                  \n",
       "[28] \"Q45_1\"                 \"Q45_2\"                 \"Q45_3\"                \n",
       "[31] \"Q45_4\"                 \"Q45_5\"                 \"Q45_6\"                \n",
       "[34] \"Q36_1\"                 \"Q36_2\"                 \"Q36_3\"                \n",
       "[37] \"Q36_4\"                 \"Q36_5\"                 \"Q36_6\"                \n",
       "[40] \"Q36_7\"                 \"Q27_1\"                 \"Q27_2\"                \n",
       "[43] \"Q27_3\"                 \"Q27_4\"                 \"Q27_5\"                \n",
       "[46] \"Q27_6\"                 \"Q27_7\"                 \"Q27_8\"                \n",
       "[49] \"Q27_9\"                 \"Q30\"                   \"Q32\"                  \n",
       "[52] \"Q34\"                   \"Q36\"                   \"Q38\"                  \n",
       "[55] \"Q40\"                   \"Q42\"                   \"Q44\"                  \n",
       "[58] \"Q46\"                   \"Q48.1\"                 \"Q3...Topics\"          "
      ]
     },
     "metadata": {},
     "output_type": "display_data"
    }
   ],
   "source": [
    "cb <- read.csv(\"/home/james/Downloads/Cyberbullying.csv\", na.strings=c(\"\",\"NA\"))\n",
    "names(cb)"
   ]
  },
  {
   "cell_type": "markdown",
   "metadata": {},
   "source": [
    "The first 23 columns are removed and the last column is also removed from the dataset. Secondly, the missing data needs to be removed from the dataset and finally, the remaining columns need to be renamed to make them easier to understand."
   ]
  },
  {
   "cell_type": "code",
   "execution_count": 3,
   "metadata": {},
   "outputs": [
    {
     "data": {
      "text/html": [
       "<ol class=list-inline>\n",
       "\t<li>'Sex'</li>\n",
       "\t<li>'Age'</li>\n",
       "\t<li>'student'</li>\n",
       "\t<li>'working'</li>\n",
       "\t<li>'CB1'</li>\n",
       "\t<li>'CB2'</li>\n",
       "\t<li>'CB3'</li>\n",
       "\t<li>'CB4'</li>\n",
       "\t<li>'CB5'</li>\n",
       "\t<li>'CB6'</li>\n",
       "\t<li>'GAD1'</li>\n",
       "\t<li>'GAD2'</li>\n",
       "\t<li>'GAD3'</li>\n",
       "\t<li>'GAD4'</li>\n",
       "\t<li>'GAD5'</li>\n",
       "\t<li>'GAD6'</li>\n",
       "\t<li>'GAD7'</li>\n",
       "\t<li>'PHQ1'</li>\n",
       "\t<li>'PHQ2'</li>\n",
       "\t<li>'PHQ3'</li>\n",
       "\t<li>'PHQ4'</li>\n",
       "\t<li>'PHQ5'</li>\n",
       "\t<li>'PHQ6'</li>\n",
       "\t<li>'PHQ7'</li>\n",
       "\t<li>'PHQ8'</li>\n",
       "\t<li>'PHQ9'</li>\n",
       "\t<li>'A1'</li>\n",
       "\t<li>'A2'</li>\n",
       "\t<li>'A3'</li>\n",
       "\t<li>'A4'</li>\n",
       "\t<li>'A5'</li>\n",
       "\t<li>'A6'</li>\n",
       "\t<li>'A7'</li>\n",
       "\t<li>'A8'</li>\n",
       "\t<li>'A9'</li>\n",
       "\t<li>'A10'</li>\n",
       "</ol>\n"
      ],
      "text/latex": [
       "\\begin{enumerate*}\n",
       "\\item 'Sex'\n",
       "\\item 'Age'\n",
       "\\item 'student'\n",
       "\\item 'working'\n",
       "\\item 'CB1'\n",
       "\\item 'CB2'\n",
       "\\item 'CB3'\n",
       "\\item 'CB4'\n",
       "\\item 'CB5'\n",
       "\\item 'CB6'\n",
       "\\item 'GAD1'\n",
       "\\item 'GAD2'\n",
       "\\item 'GAD3'\n",
       "\\item 'GAD4'\n",
       "\\item 'GAD5'\n",
       "\\item 'GAD6'\n",
       "\\item 'GAD7'\n",
       "\\item 'PHQ1'\n",
       "\\item 'PHQ2'\n",
       "\\item 'PHQ3'\n",
       "\\item 'PHQ4'\n",
       "\\item 'PHQ5'\n",
       "\\item 'PHQ6'\n",
       "\\item 'PHQ7'\n",
       "\\item 'PHQ8'\n",
       "\\item 'PHQ9'\n",
       "\\item 'A1'\n",
       "\\item 'A2'\n",
       "\\item 'A3'\n",
       "\\item 'A4'\n",
       "\\item 'A5'\n",
       "\\item 'A6'\n",
       "\\item 'A7'\n",
       "\\item 'A8'\n",
       "\\item 'A9'\n",
       "\\item 'A10'\n",
       "\\end{enumerate*}\n"
      ],
      "text/markdown": [
       "1. 'Sex'\n",
       "2. 'Age'\n",
       "3. 'student'\n",
       "4. 'working'\n",
       "5. 'CB1'\n",
       "6. 'CB2'\n",
       "7. 'CB3'\n",
       "8. 'CB4'\n",
       "9. 'CB5'\n",
       "10. 'CB6'\n",
       "11. 'GAD1'\n",
       "12. 'GAD2'\n",
       "13. 'GAD3'\n",
       "14. 'GAD4'\n",
       "15. 'GAD5'\n",
       "16. 'GAD6'\n",
       "17. 'GAD7'\n",
       "18. 'PHQ1'\n",
       "19. 'PHQ2'\n",
       "20. 'PHQ3'\n",
       "21. 'PHQ4'\n",
       "22. 'PHQ5'\n",
       "23. 'PHQ6'\n",
       "24. 'PHQ7'\n",
       "25. 'PHQ8'\n",
       "26. 'PHQ9'\n",
       "27. 'A1'\n",
       "28. 'A2'\n",
       "29. 'A3'\n",
       "30. 'A4'\n",
       "31. 'A5'\n",
       "32. 'A6'\n",
       "33. 'A7'\n",
       "34. 'A8'\n",
       "35. 'A9'\n",
       "36. 'A10'\n",
       "\n",
       "\n"
      ],
      "text/plain": [
       " [1] \"Sex\"     \"Age\"     \"student\" \"working\" \"CB1\"     \"CB2\"     \"CB3\"    \n",
       " [8] \"CB4\"     \"CB5\"     \"CB6\"     \"GAD1\"    \"GAD2\"    \"GAD3\"    \"GAD4\"   \n",
       "[15] \"GAD5\"    \"GAD6\"    \"GAD7\"    \"PHQ1\"    \"PHQ2\"    \"PHQ3\"    \"PHQ4\"   \n",
       "[22] \"PHQ5\"    \"PHQ6\"    \"PHQ7\"    \"PHQ8\"    \"PHQ9\"    \"A1\"      \"A2\"     \n",
       "[29] \"A3\"      \"A4\"      \"A5\"      \"A6\"      \"A7\"      \"A8\"      \"A9\"     \n",
       "[36] \"A10\"    "
      ]
     },
     "metadata": {},
     "output_type": "display_data"
    }
   ],
   "source": [
    "cb <- cb[-c(1:2), 24:59]\n",
    "cb <- na.omit(cb)\n",
    "\n",
    "names(cb) <- c(\"Sex\", \"Age\", \"student\", \"working\", \n",
    "               \"CB1\", \"CB2\", \"CB3\", \"CB4\", \"CB5\", \"CB6\", \n",
    "               \"GAD1\", \"GAD2\", \"GAD3\", \"GAD4\", \"GAD5\", \"GAD6\", \"GAD7\", \n",
    "               \"PHQ1\", \"PHQ2\", \"PHQ3\", \"PHQ4\", \"PHQ5\", \"PHQ6\", \"PHQ7\", \"PHQ8\", \"PHQ9\", \n",
    "               \"A1\", \"A2\", \"A3\", \"A4\", \"A5\", \"A6\", \"A7\", \"A8\", \"A9\", \"A10\")\n",
    "\n",
    "names(cb)"
   ]
  },
  {
   "cell_type": "code",
   "execution_count": 4,
   "metadata": {
    "scrolled": true
   },
   "outputs": [],
   "source": [
    "df <- cb[, c(\"Sex\", \"Age\", \"student\", \"working\")]\n",
    "df2 <- cb[, c(\"A9\", \"A10\")]\n",
    "\n",
    "delete <- c('Sex', 'Age', 'student', 'working', 'A9', 'A10')\n",
    "cb <- cb[, !(names(cb) %in% delete)]\n",
    "\n",
    "df$Sex <- recode_factor(df$Sex, `1` = \"M\", `2` = \"F\")\n",
    "df$student <- recode_factor(df$student, `1` = \"Y\", `2` = \"N\")\n",
    "df$working <- recode_factor(df$working, `1` = \"Y\", `2` = \"N\")\n",
    "\n",
    "df2$A9 <- car::recode(df2$A9,\"1=0; 2=2; 3=4\")\n",
    "df2$A10 <- car::recode(df2$A10,\"1=0; 2=2; 3=4\")"
   ]
  },
  {
   "cell_type": "markdown",
   "metadata": {},
   "source": [
    "The columns need to recoded back to zero, as qualtrics codes the data starting from one."
   ]
  },
  {
   "cell_type": "code",
   "execution_count": 5,
   "metadata": {},
   "outputs": [],
   "source": [
    "a <- function(x){\n",
    "    y <- x - 2\n",
    "    return(y)\n",
    "}\n",
    "\n",
    "cb <- lapply(cb, as.numeric)\n",
    "cb <- data.frame(cb)\n",
    "cb <- a(cb)"
   ]
  },
  {
   "cell_type": "code",
   "execution_count": 6,
   "metadata": {},
   "outputs": [],
   "source": [
    "cb <- cbind(cb, df2)\n",
    "cb <- cbind(df, cb)"
   ]
  },
  {
   "cell_type": "code",
   "execution_count": 7,
   "metadata": {},
   "outputs": [],
   "source": [
    "cb$A9 <- as.numeric(cb$A9)\n",
    "cb$A10 <- as.numeric(cb$A10)"
   ]
  },
  {
   "cell_type": "markdown",
   "metadata": {},
   "source": [
    "Now the data has been recoded, the totals for each of the four variables can be summed."
   ]
  },
  {
   "cell_type": "code",
   "execution_count": 8,
   "metadata": {},
   "outputs": [],
   "source": [
    "cb[\"cbtotal\"] <- cb$CB1 + cb$CB2 + cb$CB3 + cb$CB4 + cb$CB5 + cb$CB6\n",
    "cb[\"Gad\"] <- cb$GAD1 + cb$GAD2 + cb$GAD3 + cb$GAD4 + cb$GAD5 + cb$GAD6 + cb$GAD7\n",
    "cb[\"PHQ\"] <- cb$PHQ1 + cb$PHQ2 + cb$PHQ3 + cb$PHQ4 + cb$PHQ5 + cb$PHQ6 + cb$PHQ7 + cb$PHQ8 + cb$PHQ9\n",
    "cb[\"Audit\"] <- cb$A1 + cb$A2 + cb$A3 + cb$A4 + cb$A5 + cb$A6 + cb$A7 + cb$A8 + cb$A9 + cb$A10"
   ]
  },
  {
   "cell_type": "markdown",
   "metadata": {},
   "source": [
    "A dummy variable is created to divided the victims and non-victims up into their groups."
   ]
  },
  {
   "cell_type": "code",
   "execution_count": 9,
   "metadata": {},
   "outputs": [
    {
     "data": {
      "text/html": [
       "<ol class=list-inline>\n",
       "\t<li>'Sex'</li>\n",
       "\t<li>'Age'</li>\n",
       "\t<li>'student'</li>\n",
       "\t<li>'working'</li>\n",
       "\t<li>'CB1'</li>\n",
       "\t<li>'CB2'</li>\n",
       "\t<li>'CB3'</li>\n",
       "\t<li>'CB4'</li>\n",
       "\t<li>'CB5'</li>\n",
       "\t<li>'CB6'</li>\n",
       "\t<li>'GAD1'</li>\n",
       "\t<li>'GAD2'</li>\n",
       "\t<li>'GAD3'</li>\n",
       "\t<li>'GAD4'</li>\n",
       "\t<li>'GAD5'</li>\n",
       "\t<li>'GAD6'</li>\n",
       "\t<li>'GAD7'</li>\n",
       "\t<li>'PHQ1'</li>\n",
       "\t<li>'PHQ2'</li>\n",
       "\t<li>'PHQ3'</li>\n",
       "\t<li>'PHQ4'</li>\n",
       "\t<li>'PHQ5'</li>\n",
       "\t<li>'PHQ6'</li>\n",
       "\t<li>'PHQ7'</li>\n",
       "\t<li>'PHQ8'</li>\n",
       "\t<li>'PHQ9'</li>\n",
       "\t<li>'A1'</li>\n",
       "\t<li>'A2'</li>\n",
       "\t<li>'A3'</li>\n",
       "\t<li>'A4'</li>\n",
       "\t<li>'A5'</li>\n",
       "\t<li>'A6'</li>\n",
       "\t<li>'A7'</li>\n",
       "\t<li>'A8'</li>\n",
       "\t<li>'A9'</li>\n",
       "\t<li>'A10'</li>\n",
       "\t<li>'cbtotal'</li>\n",
       "\t<li>'Gad'</li>\n",
       "\t<li>'PHQ'</li>\n",
       "\t<li>'Audit'</li>\n",
       "\t<li>'cv'</li>\n",
       "</ol>\n"
      ],
      "text/latex": [
       "\\begin{enumerate*}\n",
       "\\item 'Sex'\n",
       "\\item 'Age'\n",
       "\\item 'student'\n",
       "\\item 'working'\n",
       "\\item 'CB1'\n",
       "\\item 'CB2'\n",
       "\\item 'CB3'\n",
       "\\item 'CB4'\n",
       "\\item 'CB5'\n",
       "\\item 'CB6'\n",
       "\\item 'GAD1'\n",
       "\\item 'GAD2'\n",
       "\\item 'GAD3'\n",
       "\\item 'GAD4'\n",
       "\\item 'GAD5'\n",
       "\\item 'GAD6'\n",
       "\\item 'GAD7'\n",
       "\\item 'PHQ1'\n",
       "\\item 'PHQ2'\n",
       "\\item 'PHQ3'\n",
       "\\item 'PHQ4'\n",
       "\\item 'PHQ5'\n",
       "\\item 'PHQ6'\n",
       "\\item 'PHQ7'\n",
       "\\item 'PHQ8'\n",
       "\\item 'PHQ9'\n",
       "\\item 'A1'\n",
       "\\item 'A2'\n",
       "\\item 'A3'\n",
       "\\item 'A4'\n",
       "\\item 'A5'\n",
       "\\item 'A6'\n",
       "\\item 'A7'\n",
       "\\item 'A8'\n",
       "\\item 'A9'\n",
       "\\item 'A10'\n",
       "\\item 'cbtotal'\n",
       "\\item 'Gad'\n",
       "\\item 'PHQ'\n",
       "\\item 'Audit'\n",
       "\\item 'cv'\n",
       "\\end{enumerate*}\n"
      ],
      "text/markdown": [
       "1. 'Sex'\n",
       "2. 'Age'\n",
       "3. 'student'\n",
       "4. 'working'\n",
       "5. 'CB1'\n",
       "6. 'CB2'\n",
       "7. 'CB3'\n",
       "8. 'CB4'\n",
       "9. 'CB5'\n",
       "10. 'CB6'\n",
       "11. 'GAD1'\n",
       "12. 'GAD2'\n",
       "13. 'GAD3'\n",
       "14. 'GAD4'\n",
       "15. 'GAD5'\n",
       "16. 'GAD6'\n",
       "17. 'GAD7'\n",
       "18. 'PHQ1'\n",
       "19. 'PHQ2'\n",
       "20. 'PHQ3'\n",
       "21. 'PHQ4'\n",
       "22. 'PHQ5'\n",
       "23. 'PHQ6'\n",
       "24. 'PHQ7'\n",
       "25. 'PHQ8'\n",
       "26. 'PHQ9'\n",
       "27. 'A1'\n",
       "28. 'A2'\n",
       "29. 'A3'\n",
       "30. 'A4'\n",
       "31. 'A5'\n",
       "32. 'A6'\n",
       "33. 'A7'\n",
       "34. 'A8'\n",
       "35. 'A9'\n",
       "36. 'A10'\n",
       "37. 'cbtotal'\n",
       "38. 'Gad'\n",
       "39. 'PHQ'\n",
       "40. 'Audit'\n",
       "41. 'cv'\n",
       "\n",
       "\n"
      ],
      "text/plain": [
       " [1] \"Sex\"     \"Age\"     \"student\" \"working\" \"CB1\"     \"CB2\"     \"CB3\"    \n",
       " [8] \"CB4\"     \"CB5\"     \"CB6\"     \"GAD1\"    \"GAD2\"    \"GAD3\"    \"GAD4\"   \n",
       "[15] \"GAD5\"    \"GAD6\"    \"GAD7\"    \"PHQ1\"    \"PHQ2\"    \"PHQ3\"    \"PHQ4\"   \n",
       "[22] \"PHQ5\"    \"PHQ6\"    \"PHQ7\"    \"PHQ8\"    \"PHQ9\"    \"A1\"      \"A2\"     \n",
       "[29] \"A3\"      \"A4\"      \"A5\"      \"A6\"      \"A7\"      \"A8\"      \"A9\"     \n",
       "[36] \"A10\"     \"cbtotal\" \"Gad\"     \"PHQ\"     \"Audit\"   \"cv\"     "
      ]
     },
     "metadata": {},
     "output_type": "display_data"
    }
   ],
   "source": [
    "cb[\"cv\"] <- ifelse(cb$cbtotal > 0, 1, 0)\n",
    "names(cb)"
   ]
  },
  {
   "cell_type": "markdown",
   "metadata": {},
   "source": [
    "Finally, the students and non-students are divided up based on how they answered; Are you a student?"
   ]
  },
  {
   "cell_type": "code",
   "execution_count": 10,
   "metadata": {},
   "outputs": [],
   "source": [
    "stu <- subset(cb, student == \"Y\")\n",
    "non <- subset(cb, student == \"N\")\n",
    "\n",
    "victim_stu <- subset(stu, cv == 1)\n",
    "victim_non <- subset(non, cv == 1)"
   ]
  },
  {
   "cell_type": "code",
   "execution_count": 11,
   "metadata": {
    "scrolled": false
   },
   "outputs": [
    {
     "name": "stderr",
     "output_type": "stream",
     "text": [
      "\n",
      "Attaching package: ‘gridExtra’\n",
      "\n",
      "The following object is masked from ‘package:dplyr’:\n",
      "\n",
      "    combine\n",
      "\n"
     ]
    },
    {
     "data": {
      "image/png": "[encoded data removed]",
      "text/plain": [
       "plot without title"
      ]
     },
     "metadata": {},
     "output_type": "display_data"
    }
   ],
   "source": [
    "library(\"gridExtra\")\n",
    "\n",
    "options(repr.plot.width=8, repr.plot.height=4)\n",
    "\n",
    "plot1 <- ggplot(stu, aes(x = factor(cv), y = Gad)) + \n",
    "stat_summary(fun.y=\"mean\", geom=\"bar\", fill = \"blue\") + \n",
    "labs(x = \"Group\", y = \"Mean\") + \n",
    "ggtitle(\"Gad\") + \n",
    "theme(plot.title = element_text(hjust = 0.5)) +\n",
    "scale_x_discrete(labels=c(\"Control\", \"Victim\"))\n",
    "\n",
    "plot2 <- ggplot(stu, aes(x = factor(cv), y = PHQ)) + \n",
    "stat_summary(fun.y=\"mean\", geom=\"bar\") + \n",
    "labs(x = \"Group\", y = \"\") +\n",
    "ggtitle(\"PHQ\") + \n",
    "theme(plot.title = element_text(hjust = 0.5)) +\n",
    "scale_x_discrete(labels=c(\"Control\", \"Victim\"))\n",
    "\n",
    "plot3 <- ggplot(stu, aes(x = factor(cv), y = Audit)) + \n",
    "stat_summary(fun.y=\"mean\", geom=\"bar\", fill = \"red\")+ \n",
    "labs(x = \"Group\", y = \"\") +\n",
    "ggtitle(\"Audit\") + \n",
    "theme(plot.title = element_text(hjust = 0.5)) +\n",
    "scale_x_discrete(labels=c(\"Control\", \"Victim\"))\n",
    "\n",
    "grid.arrange(plot1, plot2, plot3, nrow=1, ncol=3)"
   ]
  },
  {
   "cell_type": "code",
   "execution_count": 12,
   "metadata": {},
   "outputs": [
    {
     "data": {
      "image/png": "[encoded data removed]",
      "text/plain": [
       "plot without title"
      ]
     },
     "metadata": {},
     "output_type": "display_data"
    }
   ],
   "source": [
    "plot1 <- ggplot(non, aes(x = factor(cv), y = Gad)) + \n",
    "stat_summary(fun.y=\"mean\", geom=\"bar\", fill = \"blue\") + \n",
    "labs(x = \"Group\", y = \"Mean\") + \n",
    "ggtitle(\"Gad\") + \n",
    "theme(plot.title = element_text(hjust = 0.5)) +\n",
    "scale_x_discrete(labels=c(\"Control\", \"Victim\"))\n",
    "\n",
    "plot2 <- ggplot(non, aes(x = factor(cv), y = PHQ)) + \n",
    "stat_summary(fun.y=\"mean\", geom=\"bar\") + \n",
    "labs(x = \"Group\", y = \"\") +\n",
    "ggtitle(\"PHQ\") + \n",
    "theme(plot.title = element_text(hjust = 0.5)) +\n",
    "scale_x_discrete(labels=c(\"Control\", \"Victim\"))\n",
    "\n",
    "plot3 <- ggplot(non, aes(x = factor(cv), y = Audit)) + \n",
    "stat_summary(fun.y=\"mean\", geom=\"bar\", fill = \"red\")+ \n",
    "labs(x = \"Group\", y = \"\") +\n",
    "ggtitle(\"Audit\") + \n",
    "theme(plot.title = element_text(hjust = 0.5)) +\n",
    "scale_x_discrete(labels=c(\"Control\", \"Victim\"))\n",
    "\n",
    "grid.arrange(plot1, plot2, plot3, nrow=1, ncol=3)"
   ]
  },
  {
   "cell_type": "code",
   "execution_count": 13,
   "metadata": {},
   "outputs": [],
   "source": [
    "corstars <- function(x, type=\"spearman\"){ \n",
    "require(Hmisc) \n",
    "x <- as.matrix(x) \n",
    "R <- rcorr(x, type=\"spearman\")$r \n",
    "p <- rcorr(x, type=\"spearman\")$P \n",
    "\n",
    "## define notions for significance levels; spacing is important.\n",
    "mystars <- ifelse(p < .001, \"***\", ifelse(p < .01, \"** \", ifelse(p < .05, \"* \", \" \")))\n",
    "\n",
    "## trunctuate the matrix that holds the correlations to two decimal\n",
    "R <- format(round(cbind(rep(-1.11, ncol(x)), R), 2))[,-1] \n",
    "\n",
    "## build a new matrix that includes the correlations with their apropriate stars \n",
    "Rnew <- matrix(paste(R, mystars, sep=\"\"), ncol=ncol(x)) \n",
    "diag(Rnew) <- paste(diag(R), \" \", sep=\"\") \n",
    "rownames(Rnew) <- colnames(x) \n",
    "colnames(Rnew) <- paste(colnames(x), \"\", sep=\"\") \n",
    "\n",
    "## remove upper triangle\n",
    "Rnew <- as.matrix(Rnew)\n",
    "Rnew[upper.tri(Rnew, diag = TRUE)] <- \"\"\n",
    "Rnew <- as.data.frame(Rnew) \n",
    "\n",
    "## remove last column and return the matrix (which is now a data frame)\n",
    "Rnew <- cbind(Rnew[1:length(Rnew)-1])\n",
    "return(Rnew) \n",
    "}"
   ]
  },
  {
   "cell_type": "code",
   "execution_count": 14,
   "metadata": {},
   "outputs": [
    {
     "name": "stderr",
     "output_type": "stream",
     "text": [
      "Loading required package: Hmisc\n",
      "Loading required package: lattice\n",
      "Loading required package: survival\n",
      "Loading required package: Formula\n",
      "\n",
      "Attaching package: ‘Hmisc’\n",
      "\n",
      "The following object is masked from ‘package:gridExtra’:\n",
      "\n",
      "    combine\n",
      "\n",
      "The following objects are masked from ‘package:dplyr’:\n",
      "\n",
      "    combine, src, summarize\n",
      "\n",
      "The following objects are masked from ‘package:base’:\n",
      "\n",
      "    format.pval, round.POSIXt, trunc.POSIXt, units\n",
      "\n"
     ]
    },
    {
     "data": {
      "text/html": [
       "<table>\n",
       "<thead><tr><th></th><th scope=col>cbtotal</th><th scope=col>Gad</th><th scope=col>PHQ</th></tr></thead>\n",
       "<tbody>\n",
       "\t<tr><th scope=row>cbtotal</th><td>        </td><td>        </td><td>        </td></tr>\n",
       "\t<tr><th scope=row>Gad</th><td> 0.17   </td><td>        </td><td>        </td></tr>\n",
       "\t<tr><th scope=row>PHQ</th><td> 0.23*  </td><td> 0.76***</td><td>        </td></tr>\n",
       "\t<tr><th scope=row>Audit</th><td> 0.06   </td><td>-0.04   </td><td> 0.03   </td></tr>\n",
       "</tbody>\n",
       "</table>\n"
      ],
      "text/latex": [
       "\\begin{tabular}{r|lll}\n",
       "  & cbtotal & Gad & PHQ\\\\\n",
       "\\hline\n",
       "\tcbtotal &          &          &         \\\\\n",
       "\tGad &  0.17    &          &         \\\\\n",
       "\tPHQ &  0.23*   &  0.76*** &         \\\\\n",
       "\tAudit &  0.06    & -0.04    &  0.03   \\\\\n",
       "\\end{tabular}\n"
      ],
      "text/markdown": [
       "\n",
       "| <!--/--> | cbtotal | Gad | PHQ | \n",
       "|---|---|---|---|\n",
       "| cbtotal |          |          |          | \n",
       "| Gad |  0.17    |          |          | \n",
       "| PHQ |  0.23*   |  0.76*** |          | \n",
       "| Audit |  0.06    | -0.04    |  0.03    | \n",
       "\n",
       "\n"
      ],
      "text/plain": [
       "        cbtotal Gad      PHQ   \n",
       "cbtotal                        \n",
       "Gad      0.17                  \n",
       "PHQ      0.23*   0.76***       \n",
       "Audit    0.06   -0.04     0.03 "
      ]
     },
     "metadata": {},
     "output_type": "display_data"
    },
    {
     "data": {
      "text/html": [
       "<table>\n",
       "<thead><tr><th></th><th scope=col>cbtotal</th><th scope=col>Gad</th><th scope=col>PHQ</th></tr></thead>\n",
       "<tbody>\n",
       "\t<tr><th scope=row>cbtotal</th><td>        </td><td>        </td><td>        </td></tr>\n",
       "\t<tr><th scope=row>Gad</th><td> 0.36** </td><td>        </td><td>        </td></tr>\n",
       "\t<tr><th scope=row>PHQ</th><td> 0.48***</td><td> 0.84***</td><td>        </td></tr>\n",
       "\t<tr><th scope=row>Audit</th><td>-0.08   </td><td> 0.15   </td><td> 0.05   </td></tr>\n",
       "</tbody>\n",
       "</table>\n"
      ],
      "text/latex": [
       "\\begin{tabular}{r|lll}\n",
       "  & cbtotal & Gad & PHQ\\\\\n",
       "\\hline\n",
       "\tcbtotal &          &          &         \\\\\n",
       "\tGad &  0.36**  &          &         \\\\\n",
       "\tPHQ &  0.48*** &  0.84*** &         \\\\\n",
       "\tAudit & -0.08    &  0.15    &  0.05   \\\\\n",
       "\\end{tabular}\n"
      ],
      "text/markdown": [
       "\n",
       "| <!--/--> | cbtotal | Gad | PHQ | \n",
       "|---|---|---|---|\n",
       "| cbtotal |          |          |          | \n",
       "| Gad |  0.36**  |          |          | \n",
       "| PHQ |  0.48*** |  0.84*** |          | \n",
       "| Audit | -0.08    |  0.15    |  0.05    | \n",
       "\n",
       "\n"
      ],
      "text/plain": [
       "        cbtotal  Gad      PHQ   \n",
       "cbtotal                         \n",
       "Gad      0.36**                 \n",
       "PHQ      0.48***  0.84***       \n",
       "Audit   -0.08     0.15     0.05 "
      ]
     },
     "metadata": {},
     "output_type": "display_data"
    }
   ],
   "source": [
    "totals1 <- victim_stu[, c(\"cbtotal\", \"Gad\", \"PHQ\", \"Audit\")]\n",
    "corstars(totals1)\n",
    "\n",
    "totals2 <- victim_non[, c(\"cbtotal\", \"Gad\", \"PHQ\", \"Audit\")]\n",
    "corstars(totals2)"
   ]
  },
  {
   "cell_type": "markdown",
   "metadata": {},
   "source": [
    "The correlations are used to look at the relationship between each of the variables between the two different population. The top table looks at the student population and the bottom table looks at the non-student population. The results show that there is a significant relationship between cyber victimisation scores and depression scores (PHQ) (*r*<sub>s</sub> = .23, p < .05) scores for students, although there is no significant relationship for anxiety (Gad) for students. The second correlation looked at the non-student population. There was a significant relationship for depression (PHQ) (*r*<sub>s</sub> = .48, p < .001), a more significant correlation compared to the student sample. Also, anxiety (Gad) was also significant (*r*<sub>s</sub> = .36, p < .01), suggesting that cyberbullying may have a more significant effect on non-students compared to students. It was also found that alcohol use (Audit) was non-significant for both samples suggesting that there is no significant relationship between cyberbullying and alcohol use.\n",
    "\n",
    "The next part of this project is to compare the victims scores with the control groups."
   ]
  },
  {
   "cell_type": "code",
   "execution_count": 15,
   "metadata": {},
   "outputs": [
    {
     "data": {
      "text/plain": [
       "           Df  Pillai approx F num Df den Df   Pr(>F)   \n",
       "cv          1 0.08302   4.2552      3    141 0.006533 **\n",
       "Residuals 143                                           \n",
       "---\n",
       "Signif. codes:  0 ‘***’ 0.001 ‘**’ 0.01 ‘*’ 0.05 ‘.’ 0.1 ‘ ’ 1"
      ]
     },
     "metadata": {},
     "output_type": "display_data"
    },
    {
     "data": {
      "text/plain": [
       " Response Gad :\n",
       "             Df Sum Sq Mean Sq F value  Pr(>F)  \n",
       "cv            1  244.8 244.759  6.7663 0.01027 *\n",
       "Residuals   143 5172.8  36.173                  \n",
       "---\n",
       "Signif. codes:  0 ‘***’ 0.001 ‘**’ 0.01 ‘*’ 0.05 ‘.’ 0.1 ‘ ’ 1\n",
       "\n",
       " Response PHQ :\n",
       "             Df Sum Sq Mean Sq F value    Pr(>F)    \n",
       "cv            1  663.8  663.84   12.63 0.0005148 ***\n",
       "Residuals   143 7516.1   52.56                      \n",
       "---\n",
       "Signif. codes:  0 ‘***’ 0.001 ‘**’ 0.01 ‘*’ 0.05 ‘.’ 0.1 ‘ ’ 1\n",
       "\n",
       " Response Audit :\n",
       "             Df Sum Sq Mean Sq F value Pr(>F)\n",
       "cv            1    7.2  7.1929  0.2671 0.6061\n",
       "Residuals   143 3850.4 26.9256               \n"
      ]
     },
     "metadata": {},
     "output_type": "display_data"
    }
   ],
   "source": [
    "mod <- manova(cbind(Gad, PHQ, Audit) ~ cv, data = stu)\n",
    "summary(mod)\n",
    "summary.aov(mod)"
   ]
  },
  {
   "cell_type": "markdown",
   "metadata": {},
   "source": [
    "A one-way manova was conducted to examine the differences between the victims (n=75) and the control group (n=70) for GAD-7, PHQ-9, and AUDIT for the students. A dummy variable was used, victims coded as 1 and the control coded as 0. The cyberbullying dummy variable was used as the independent variable and scores on GAD-7, PHQ-9, and AUDIT was used as the dependent variable. This is based on a similar methodology used by Schenk and Fremouw (2012). The model was significant *F*(3, 143) = 4.25, *p*<.001. The results show that GAD-7 scores were significantly different between the victims and the control group *F*(1, 143) = 6.76, *p*=.01, suggesting that victims of cyberbullying have significantly higher levels of anxiety compared to the control group. The scores for PHQ-9 were also significantly different *F*(1, 143) = 12.63, *p*<.001 between the victims and the control group, suggesting that participants that were the victim of cyberbullying had significantly higher levels of depression compared to the control group. However, the results show that the scores for AUDIT are non-significant, suggesting that there is no significant difference."
   ]
  },
  {
   "cell_type": "code",
   "execution_count": 16,
   "metadata": {},
   "outputs": [
    {
     "data": {
      "text/plain": [
       "          Df   Pillai approx F num Df den Df Pr(>F)\n",
       "cv         1 0.044741   1.4675      3     94 0.2284\n",
       "Residuals 96                                       "
      ]
     },
     "metadata": {},
     "output_type": "display_data"
    },
    {
     "data": {
      "text/plain": [
       " Response Gad :\n",
       "            Df  Sum Sq Mean Sq F value Pr(>F)\n",
       "cv           1    0.35   0.354  0.0108 0.9173\n",
       "Residuals   96 3137.61  32.683               \n",
       "\n",
       " Response PHQ :\n",
       "            Df Sum Sq Mean Sq F value Pr(>F)\n",
       "cv           1    0.0   0.012   2e-04 0.9877\n",
       "Residuals   96 5007.2  52.158               \n",
       "\n",
       " Response Audit :\n",
       "            Df  Sum Sq Mean Sq F value  Pr(>F)  \n",
       "cv           1  140.55 140.552  4.3505 0.03965 *\n",
       "Residuals   96 3101.45  32.307                  \n",
       "---\n",
       "Signif. codes:  0 ‘***’ 0.001 ‘**’ 0.01 ‘*’ 0.05 ‘.’ 0.1 ‘ ’ 1\n"
      ]
     },
     "metadata": {},
     "output_type": "display_data"
    }
   ],
   "source": [
    "mod1 <- manova(cbind(Gad, PHQ, Audit) ~ cv, data = non)\n",
    "summary(mod1)\n",
    "summary.aov(mod1)"
   ]
  },
  {
   "cell_type": "markdown",
   "metadata": {},
   "source": [
    "A second one-way manova was conducted to examine the differences between the victims (n=52) and the control group (n=46) for GAD-7, PHQ-9, and AUDIT for the non-student participants. Again a dummy variable was used, victims coded as 1 and the control coded as 0. The cyberbullying dummy variable was used as the independent variable and scores on GAD-7, PHQ-9, and AUDIT was used as the dependent variable. The model was non-significant (p=.22). However, the results show that the scores for AUDIT were significant *F*(1, 96) = 4.35, *p*=.03), suggesting that victims of cyberbullying consume a higher amount of alcohol compared to non-victims of cyberbullying."
   ]
  },
  {
   "cell_type": "markdown",
   "metadata": {},
   "source": [
    "### Conclusion"
   ]
  },
  {
   "cell_type": "markdown",
   "metadata": {},
   "source": [
    "In conclusion, the data suggest that victims of cyberbullying experience higher levels of depression and anxiety compared to individuals that have never experienced cyberbullying. The data also suggest that students and non-students experience the negative effects of cyberbullying differently, where students experience higher levels of depression and anxiety and non-studnets experience higher levels of alcohol consumers as a result. Although, there is a significant drinking culture at university and this may negate the effects that cyberbullying may have. Whereas stress, depression, and anxiety are now significant factors in the workplace and this may negate the effect of cyberbullying in this environment.\n",
    "\n",
    "Although there are several limitations to this study, specific questions regarding the perpetrator were not taken into account. As well as whether the victim was also the victim of traditional face-to-face bullying was not taken into account."
   ]
  },
  {
   "cell_type": "markdown",
   "metadata": {},
   "source": [
    "Reference\n",
    "\n",
    "Allison M. Schenk & William J. Fremouw (2012) Prevalence, Psychological Impact, and Coping of Cyberbully Victims           Among College Students, Journal of School Violence, 11:1, 21-37, DOI: 10.1080/15388220.2011.630310"
   ]
  }
 ],
 "metadata": {
  "kernelspec": {
   "display_name": "R",
   "language": "R",
   "name": "ir"
  },
  "language_info": {
   "codemirror_mode": "r",
   "file_extension": ".r",
   "mimetype": "text/x-r-source",
   "name": "R",
   "pygments_lexer": "r",
   "version": "3.4.3"
  }
 },
 "nbformat": 4,
 "nbformat_minor": 2
}
