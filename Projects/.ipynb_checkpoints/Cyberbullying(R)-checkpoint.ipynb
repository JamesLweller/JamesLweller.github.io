{
 "cells": [
  {
   "cell_type": "markdown",
   "metadata": {},
   "source": [
    "# Introduction"
   ]
  },
  {
   "cell_type": "markdown",
   "metadata": {},
   "source": [
    "This project looks at self-reported cyber-victimization data. Participants completed four psychometrics tests looking at depression, anxiety, alcohol uses and Cyber-Victimization. There were 243 participants (102 Males & 141 Females, 145 students & 98 non-student participants) that completed this research. This project has two purposes, the first is to clean the dataset (remove unnecessary columns, rename the columns and recode the data into the correct format). Secondly, to test the two research question. Firstly, *Is there a significant relationship between cyberbullying & depression, anxiety, and alcohol use?*. The second question is *Do victims of cyberbullying score higher for depression, anxiety and alcohol use compared to non-victims?*\n",
    "\n",
    "The tools used to collect the data were:\n",
    "\n",
    "Patient Health Questionnaire 9-item [PHQ-9] (https://www.integration.samhsa.gov/images/res/PHQ%20-%20Questions.pdf)\n",
    "\n",
    "Generalized Anxiety Disorder 7-item [GAD-7] (https://www.integration.samhsa.gov/clinical-practice/GAD708.19.08Cartwright.pdf)\n",
    "\n",
    "Alcohol Use Disorders Identification Test [AUDIT] (https://pubs.niaaa.nih.gov/publications/Audit.pdf)\n",
    "\n",
    "Cyber-Victimization Questionnaire [CVS] (https://www.researchgate.net/publication/263920031_Cyber-_and_Traditional_Peer_Victimization_Unique_Relationships_With_Adolescent_Well-Being)"
   ]
  },
  {
   "cell_type": "code",
   "execution_count": 1,
   "metadata": {},
   "outputs": [
    {
     "name": "stderr",
     "output_type": "stream",
     "text": [
      "\n",
      "Attaching package: ‘dplyr’\n",
      "\n",
      "The following object is masked from ‘package:car’:\n",
      "\n",
      "    recode\n",
      "\n",
      "The following objects are masked from ‘package:stats’:\n",
      "\n",
      "    filter, lag\n",
      "\n",
      "The following objects are masked from ‘package:base’:\n",
      "\n",
      "    intersect, setdiff, setequal, union\n",
      "\n",
      "\n",
      "Attaching package: ‘MASS’\n",
      "\n",
      "The following object is masked from ‘package:dplyr’:\n",
      "\n",
      "    select\n",
      "\n"
     ]
    }
   ],
   "source": [
    "set.seed(1234)\n",
    "\n",
    "library(car)\n",
    "library(dplyr)\n",
    "library(MASS)\n",
    "library(ggplot2)"
   ]
  },
  {
   "cell_type": "code",
   "execution_count": 2,
   "metadata": {
    "scrolled": true
   },
   "outputs": [
    {
     "name": "stderr",
     "output_type": "stream",
     "text": [
      "Warning message in file(file, \"rt\"):\n",
      "“cannot open file '/home/james/Downloads/Cyberbullying.csv': No such file or directory”"
     ]
    },
    {
     "ename": "ERROR",
     "evalue": "Error in file(file, \"rt\"): cannot open the connection\n",
     "output_type": "error",
     "traceback": [
      "Error in file(file, \"rt\"): cannot open the connection\nTraceback:\n",
      "1. read.csv(\"/home/james/Downloads/Cyberbullying.csv\", na.strings = c(\"\", \n .     \"NA\"))",
      "2. read.table(file = file, header = header, sep = sep, quote = quote, \n .     dec = dec, fill = fill, comment.char = comment.char, ...)",
      "3. file(file, \"rt\")"
     ]
    }
   ],
   "source": [
    "cb <- read.csv(\"/home/james/Downloads/Cyberbullying.csv\", na.strings=c(\"\",\"NA\"))"
   ]
  },
  {
   "cell_type": "markdown",
   "metadata": {},
   "source": [
    "The first 23 columns are removed and the last column is also removed from the dataset. Secondly, the missing data needs to be removed from the dataset and finally, the remaining columns need to be renamed to make them easier to understand."
   ]
  },
  {
   "cell_type": "code",
   "execution_count": null,
   "metadata": {},
   "outputs": [],
   "source": [
    "cb <- cb[-c(1:2), 24:59]\n",
    "cb <- na.omit(cb)\n",
    "\n",
    "names(cb) <- c(\"Sex\", \"Age\", \"student\", \"working\", \n",
    "               \"CB1\", \"CB2\", \"CB3\", \"CB4\", \"CB5\", \"CB6\", \n",
    "               \"GAD1\", \"GAD2\", \"GAD3\", \"GAD4\", \"GAD5\", \"GAD6\", \"GAD7\", \n",
    "               \"PHQ1\", \"PHQ2\", \"PHQ3\", \"PHQ4\", \"PHQ5\", \"PHQ6\", \"PHQ7\", \"PHQ8\", \"PHQ9\", \n",
    "               \"A1\", \"A2\", \"A3\", \"A4\", \"A5\", \"A6\", \"A7\", \"A8\", \"A9\", \"A10\")"
   ]
  },
  {
   "cell_type": "code",
   "execution_count": null,
   "metadata": {
    "scrolled": true
   },
   "outputs": [],
   "source": [
    "df <- cb[, c(\"Sex\", \"Age\", \"student\", \"working\")]\n",
    "df2 <- cb[, c(\"A9\", \"A10\")]\n",
    "\n",
    "delete <- c('Sex', 'Age', 'student', 'working', 'A9', 'A10')\n",
    "cb <- cb[, !(names(cb) %in% delete)]\n",
    "\n",
    "df$Sex <- recode_factor(df$Sex, `1` = \"M\", `2` = \"F\")\n",
    "df$student <- recode_factor(df$student, `1` = \"Y\", `2` = \"N\")\n",
    "df$working <- recode_factor(df$working, `1` = \"Y\", `2` = \"N\")\n",
    "\n",
    "df2$A9 <- car::recode(df2$A9,\"1=0; 2=2; 3=4\")\n",
    "df2$A10 <- car::recode(df2$A10,\"1=0; 2=2; 3=4\")"
   ]
  },
  {
   "cell_type": "markdown",
   "metadata": {},
   "source": [
    "The columns need to recoded back to zero, as qualtrics codes the data starting from one."
   ]
  },
  {
   "cell_type": "code",
   "execution_count": null,
   "metadata": {},
   "outputs": [],
   "source": [
    "a <- function(x){\n",
    "    y <- x - 2\n",
    "    return(y)\n",
    "}\n",
    "\n",
    "cb <- lapply(cb, as.numeric)\n",
    "cb <- data.frame(cb)\n",
    "cb <- a(cb)"
   ]
  },
  {
   "cell_type": "code",
   "execution_count": null,
   "metadata": {},
   "outputs": [],
   "source": [
    "cb <- cbind(cb, df2)\n",
    "cb <- cbind(df, cb)"
   ]
  },
  {
   "cell_type": "code",
   "execution_count": null,
   "metadata": {},
   "outputs": [],
   "source": [
    "cb$A9 <- as.numeric(cb$A9)\n",
    "cb$A10 <- as.numeric(cb$A10)"
   ]
  },
  {
   "cell_type": "markdown",
   "metadata": {},
   "source": [
    "Now the data has been recoded, the totals for each of the four variables can be summed."
   ]
  },
  {
   "cell_type": "code",
   "execution_count": null,
   "metadata": {},
   "outputs": [],
   "source": [
    "cb[\"cbtotal\"] <- cb$CB1 + cb$CB2 + cb$CB3 + cb$CB4 + cb$CB5 + cb$CB6\n",
    "cb[\"Gad\"] <- cb$GAD1 + cb$GAD2 + cb$GAD3 + cb$GAD4 + cb$GAD5 + cb$GAD6 + cb$GAD7\n",
    "cb[\"PHQ\"] <- cb$PHQ1 + cb$PHQ2 + cb$PHQ3 + cb$PHQ4 + cb$PHQ5 + cb$PHQ6 + cb$PHQ7 + cb$PHQ8 + cb$PHQ9\n",
    "cb[\"Audit\"] <- cb$A1 + cb$A2 + cb$A3 + cb$A4 + cb$A5 + cb$A6 + cb$A7 + cb$A8 + cb$A9 + cb$A10"
   ]
  },
  {
   "cell_type": "markdown",
   "metadata": {},
   "source": [
    "A dummy variable is created to divided the victims and non-victims up into their groups."
   ]
  },
  {
   "cell_type": "code",
   "execution_count": null,
   "metadata": {},
   "outputs": [],
   "source": [
    "cb[\"cv\"] <- ifelse(cb$cbtotal > 0, 1, 0)\n",
    "names(cb)"
   ]
  },
  {
   "cell_type": "markdown",
   "metadata": {},
   "source": [
    "Finally, the students and non-students are divided up based on how they answered; Are you a student?"
   ]
  },
  {
   "cell_type": "code",
   "execution_count": null,
   "metadata": {},
   "outputs": [],
   "source": [
    "stu <- subset(cb, student == \"Y\")\n",
    "non <- subset(cb, student == \"N\")\n",
    "\n",
    "victim_stu <- subset(stu, cv == 1)\n",
    "victim_non <- subset(non, cv == 1)"
   ]
  },
  {
   "cell_type": "code",
   "execution_count": null,
   "metadata": {
    "scrolled": false
   },
   "outputs": [],
   "source": [
    "library(\"gridExtra\")\n",
    "\n",
    "options(repr.plot.width=8, repr.plot.height=4)\n",
    "\n",
    "plot1 <- ggplot(stu, aes(x = factor(cv), y = Gad)) + \n",
    "stat_summary(fun.y=\"mean\", geom=\"bar\", fill = \"blue\") + \n",
    "labs(x = \"Group\", y = \"Mean\") + \n",
    "ggtitle(\"Gad\") + \n",
    "theme(plot.title = element_text(hjust = 0.5)) +\n",
    "scale_x_discrete(labels=c(\"Control\", \"Victim\"))\n",
    "\n",
    "plot2 <- ggplot(stu, aes(x = factor(cv), y = PHQ)) + \n",
    "stat_summary(fun.y=\"mean\", geom=\"bar\") + \n",
    "labs(x = \"Group\", y = \"\") +\n",
    "ggtitle(\"PHQ\") + \n",
    "theme(plot.title = element_text(hjust = 0.5)) +\n",
    "scale_x_discrete(labels=c(\"Control\", \"Victim\"))\n",
    "\n",
    "plot3 <- ggplot(stu, aes(x = factor(cv), y = Audit)) + \n",
    "stat_summary(fun.y=\"mean\", geom=\"bar\", fill = \"red\")+ \n",
    "labs(x = \"Group\", y = \"\") +\n",
    "ggtitle(\"Audit\") + \n",
    "theme(plot.title = element_text(hjust = 0.5)) +\n",
    "scale_x_discrete(labels=c(\"Control\", \"Victim\"))\n",
    "\n",
    "grid.arrange(plot1, plot2, plot3, nrow=1, ncol=3)"
   ]
  },
  {
   "cell_type": "code",
   "execution_count": null,
   "metadata": {},
   "outputs": [],
   "source": [
    "plot1 <- ggplot(non, aes(x = factor(cv), y = Gad)) + \n",
    "stat_summary(fun.y=\"mean\", geom=\"bar\", fill = \"blue\") + \n",
    "labs(x = \"Group\", y = \"Mean\") + \n",
    "ggtitle(\"Gad\") + \n",
    "theme(plot.title = element_text(hjust = 0.5)) +\n",
    "scale_x_discrete(labels=c(\"Control\", \"Victim\"))\n",
    "\n",
    "plot2 <- ggplot(non, aes(x = factor(cv), y = PHQ)) + \n",
    "stat_summary(fun.y=\"mean\", geom=\"bar\") + \n",
    "labs(x = \"Group\", y = \"\") +\n",
    "ggtitle(\"PHQ\") + \n",
    "theme(plot.title = element_text(hjust = 0.5)) +\n",
    "scale_x_discrete(labels=c(\"Control\", \"Victim\"))\n",
    "\n",
    "plot3 <- ggplot(non, aes(x = factor(cv), y = Audit)) + \n",
    "stat_summary(fun.y=\"mean\", geom=\"bar\", fill = \"red\")+ \n",
    "labs(x = \"Group\", y = \"\") +\n",
    "ggtitle(\"Audit\") + \n",
    "theme(plot.title = element_text(hjust = 0.5)) +\n",
    "scale_x_discrete(labels=c(\"Control\", \"Victim\"))\n",
    "\n",
    "grid.arrange(plot1, plot2, plot3, nrow=1, ncol=3)"
   ]
  },
  {
   "cell_type": "code",
   "execution_count": null,
   "metadata": {},
   "outputs": [],
   "source": [
    "corstars <- function(x, type=\"spearman\"){ \n",
    "require(Hmisc) \n",
    "x <- as.matrix(x) \n",
    "R <- rcorr(x, type=\"spearman\")$r \n",
    "p <- rcorr(x, type=\"spearman\")$P \n",
    "\n",
    "## define notions for significance levels; spacing is important.\n",
    "mystars <- ifelse(p < .001, \"***\", ifelse(p < .01, \"** \", ifelse(p < .05, \"* \", \" \")))\n",
    "\n",
    "## trunctuate the matrix that holds the correlations to two decimal\n",
    "R <- format(round(cbind(rep(-1.11, ncol(x)), R), 2))[,-1] \n",
    "\n",
    "## build a new matrix that includes the correlations with their apropriate stars \n",
    "Rnew <- matrix(paste(R, mystars, sep=\"\"), ncol=ncol(x)) \n",
    "diag(Rnew) <- paste(diag(R), \" \", sep=\"\") \n",
    "rownames(Rnew) <- colnames(x) \n",
    "colnames(Rnew) <- paste(colnames(x), \"\", sep=\"\") \n",
    "\n",
    "## remove upper triangle\n",
    "Rnew <- as.matrix(Rnew)\n",
    "Rnew[upper.tri(Rnew, diag = TRUE)] <- \"\"\n",
    "Rnew <- as.data.frame(Rnew) \n",
    "\n",
    "## remove last column and return the matrix (which is now a data frame)\n",
    "Rnew <- cbind(Rnew[1:length(Rnew)-1])\n",
    "return(Rnew) \n",
    "}"
   ]
  },
  {
   "cell_type": "code",
   "execution_count": null,
   "metadata": {},
   "outputs": [],
   "source": [
    "totals1 <- victim_stu[, c(\"cbtotal\", \"Gad\", \"PHQ\", \"Audit\")]\n",
    "corstars(totals1)\n",
    "\n",
    "totals2 <- victim_non[, c(\"cbtotal\", \"Gad\", \"PHQ\", \"Audit\")]\n",
    "corstars(totals2)"
   ]
  },
  {
   "cell_type": "markdown",
   "metadata": {},
   "source": [
    "The correlations are used to look at the relationship between each of the variables between the two different population. The top table looks at the student population and the bottom table looks at the non-student population. The results show that there is a significant relationship between cyber victimisation scores and depression scores (PHQ) (*r*<sub>s</sub> = .23, p < .05) scores for students, although there is no significant relationship for anxiety (Gad) for students. The second correlation looked at the non-student population. There was a significant relationship for depression (PHQ) (*r*<sub>s</sub> = .48, p < .001), a more significant correlation compared to the student sample. Also, anxiety (Gad) was also significant (*r*<sub>s</sub> = .36, p < .01), suggesting that cyberbullying may have a more significant effect on non-students compared to students. It was also found that alcohol use (Audit) was non-significant for both samples suggesting that there is no significant relationship between cyberbullying and alcohol use.\n",
    "\n",
    "The next part of this project is to compare the victims scores with the control groups."
   ]
  },
  {
   "cell_type": "code",
   "execution_count": null,
   "metadata": {},
   "outputs": [],
   "source": [
    "mod <- manova(cbind(Gad, PHQ, Audit) ~ cv, data = stu)\n",
    "summary(mod)\n",
    "summary.aov(mod)"
   ]
  },
  {
   "cell_type": "markdown",
   "metadata": {},
   "source": [
    "A one-way manova was conducted to examine the differences between the victims (n=75) and the control group (n=70) for GAD-7, PHQ-9, and AUDIT for the students. A dummy variable was used, victims coded as 1 and the control coded as 0. The cyberbullying dummy variable was used as the independent variable and scores on GAD-7, PHQ-9, and AUDIT was used as the dependent variable. This is based on a similar methodology used by Schenk and Fremouw (2012). The model was significant *F*(3, 143) = 4.25, *p*<.001. The results show that GAD-7 scores were significantly different between the victims and the control group *F*(1, 143) = 6.76, *p*=.01, suggesting that victims of cyberbullying have significantly higher levels of anxiety compared to the control group. The scores for PHQ-9 were also significantly different *F*(1, 143) = 12.63, *p*<.001 between the victims and the control group, suggesting that participants that were the victim of cyberbullying had significantly higher levels of depression compared to the control group. However, the results show that the scores for AUDIT are non-significant, suggesting that there is no significant difference."
   ]
  },
  {
   "cell_type": "code",
   "execution_count": null,
   "metadata": {},
   "outputs": [],
   "source": [
    "mod1 <- manova(cbind(Gad, PHQ, Audit) ~ cv, data = non)\n",
    "summary(mod1)\n",
    "summary.aov(mod1)"
   ]
  },
  {
   "cell_type": "markdown",
   "metadata": {},
   "source": [
    "A second one-way manova was conducted to examine the differences between the victims (n=52) and the control group (n=46) for GAD-7, PHQ-9, and AUDIT for the non-student participants. Again a dummy variable was used, victims coded as 1 and the control coded as 0. The cyberbullying dummy variable was used as the independent variable and scores on GAD-7, PHQ-9, and AUDIT was used as the dependent variable. The model was non-significant (p=.22). However, the results show that the scores for AUDIT were significant *F*(1, 96) = 4.35, *p*=.03), suggesting that victims of cyberbullying consume a higher amount of alcohol compared to non-victims of cyberbullying."
   ]
  },
  {
   "cell_type": "markdown",
   "metadata": {},
   "source": [
    "### Conclusion"
   ]
  },
  {
   "cell_type": "markdown",
   "metadata": {},
   "source": [
    "In conclusion, the data suggest that victims of cyberbullying experience higher levels of depression and anxiety compared to individuals that have never experienced cyberbullying. The data also suggest that students and non-students experience the negative effects of cyberbullying differently, where students experience higher levels of depression and anxiety and non-studnets experience higher levels of alcohol consumers as a result. Although, there is a significant drinking culture at university and this may negate the effects that cyberbullying may have. Whereas stress, depression, and anxiety are now significant factors in the workplace and this may negate the effect of cyberbullying in this environment.\n",
    "\n",
    "Although there are several limitations to this study, specific questions regarding the perpetrator were not taken into account. As well as whether the victim was also the victim of traditional face-to-face bullying was not taken into account."
   ]
  },
  {
   "cell_type": "markdown",
   "metadata": {},
   "source": [
    "Reference\n",
    "\n",
    "Allison M. Schenk & William J. Fremouw (2012) Prevalence, Psychological Impact, and Coping of Cyberbully Victims           Among College Students, Journal of School Violence, 11:1, 21-37, DOI: 10.1080/15388220.2011.630310"
   ]
  }
 ],
 "metadata": {
  "kernelspec": {
   "display_name": "R",
   "language": "R",
   "name": "ir"
  },
  "language_info": {
   "codemirror_mode": "r",
   "file_extension": ".r",
   "mimetype": "text/x-r-source",
   "name": "R",
   "pygments_lexer": "r",
   "version": "3.4.3"
  }
 },
 "nbformat": 4,
 "nbformat_minor": 2
}
