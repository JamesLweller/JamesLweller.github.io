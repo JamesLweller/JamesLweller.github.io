{
 "cells": [
  {
   "cell_type": "markdown",
   "metadata": {},
   "source": [
    "# Introduction"
   ]
  },
  {
   "cell_type": "markdown",
   "metadata": {},
   "source": [
    "This project looks at the relationship between trait emotional intelligence (TEI) and drug use (DUDIT), alcohol use (AUDIT), depression (PHQ-9) & anxiety (GAD-7). This project will focus on the four facets of TEI Wellbeing, Self_control, Emotionality and Sociability. The data was collected as part of my undergraduate dissertation. The data consists of 193 (125 female and 54 male) participants that were university students. It was hypothesised that participants with higher levels of TEI would score lower on each of the four variables.\n",
    "\n",
    "The five variables used in this study were:\n",
    "\n",
    "Patient Health Questionnaire [PHQ-9]\n",
    "(https://www.integration.samhsa.gov/images/res/PHQ%20-%20Questions.pdf)\n",
    "\n",
    "Generalized Anxiety Disorder 7-item [GAD-7]\n",
    "(https://www.integration.samhsa.gov/clinical-practice/GAD708.19.08Cartwright.pdf)\n",
    "\n",
    "Alcohol Use Disorders Identification Test [AUDIT]\n",
    "(https://pubs.niaaa.nih.gov/publications/Audit.pdf)\n",
    "\n",
    "Drug Use Disorders Identification Test [DUDIT]\n",
    "(https://www.paihdelinkki.fi/sites/default/files/duditmanual.pdf)\n",
    "\n",
    "Trait Emotional Intelligence Questionnaire – Short Form (TEIQue-SF) http://www.psychometriclab.com/adminsdata/files/The%20TEIQue-SF%20v.%201.50.pdf"
   ]
  },
  {
   "cell_type": "code",
   "execution_count": null,
   "metadata": {},
   "outputs": [],
   "source": [
    "set.seed(101)\n",
    "\n",
    "library(car)\n",
    "library(ggplot2)\n",
    "library(plyr)\n",
    "library(dplyr)\n",
    "library(MASS)\n",
    "library(boot)\n",
    "library(Hmisc)"
   ]
  },
  {
   "cell_type": "code",
   "execution_count": 2,
   "metadata": {},
   "outputs": [
    {
     "data": {
      "text/plain": [
       "\n",
       "female   male \n",
       "   132     61 "
      ]
     },
     "metadata": {},
     "output_type": "display_data"
    },
    {
     "data": {
      "text/plain": [
       "\n",
       "female   male \n",
       "   125     54 "
      ]
     },
     "metadata": {},
     "output_type": "display_data"
    }
   ],
   "source": [
    "tei <- read.csv(\"/home/james/Downloads/pycode/data1.csv\", header=TRUE)\n",
    "table(tei$Gender)\n",
    "\n",
    "#Remove all the missing data\n",
    "tei <- na.omit(tei)\n",
    "table(tei$Gender)"
   ]
  },
  {
   "cell_type": "markdown",
   "metadata": {},
   "source": [
    "Sum up each the variables to create the totals"
   ]
  },
  {
   "cell_type": "code",
   "execution_count": 3,
   "metadata": {},
   "outputs": [],
   "source": [
    "tei$dudit <- rowSums(tei[,3:13])\n",
    "tei$audit <- rowSums(tei[,14:23])\n",
    "tei$gad <- rowSums(tei[,24:30])\n",
    "tei$phq <- rowSums(tei[,31:39])\n",
    "tei$tei <- rowSums(tei[,40:69])"
   ]
  },
  {
   "cell_type": "code",
   "execution_count": 4,
   "metadata": {},
   "outputs": [
    {
     "data": {
      "image/png": "[encoded data removed]",
      "text/plain": [
       "Plot with title “TEI”"
      ]
     },
     "metadata": {},
     "output_type": "display_data"
    }
   ],
   "source": [
    "par(mfrow=c(3,2))\n",
    "par(mar=c(3, 4.5, 1.5, 3))\n",
    "hist(tei$dudit, col=\"grey\", ylim= c(0, 140), main=\"DUDIT\", xlab=\"DUDIT\")\n",
    "hist(tei$audit, col=\"grey\", ylim= c(0, 100), main=\"AUDIT\", xlab=\"AUDIT\")\n",
    "hist(tei$phq, col=\"grey\", ylim= c(0, 60), main=\"PHQ\", xlab=\"PHQ\")\n",
    "hist(tei$gad, col=\"grey\", ylim= c(0, 40), main=\"GAD\", xlab=\"GAD\")\n",
    "hist(tei$tei, col=\"grey\", ylim= c(0, 50), main=\"TEI\", xlab=\"TEI\")"
   ]
  },
  {
   "cell_type": "markdown",
   "metadata": {},
   "source": [
    "Look at the histograms to see the distribution. \n",
    "\n",
    "Four of these histograms have a positivity skew, which is common when studying this type of data,"
   ]
  },
  {
   "cell_type": "code",
   "execution_count": 5,
   "metadata": {},
   "outputs": [
    {
     "data": {
      "text/html": [
       "<ol class=list-inline>\n",
       "\t<li>'dudit'</li>\n",
       "\t<li>'audit'</li>\n",
       "\t<li>'gad'</li>\n",
       "\t<li>'phq'</li>\n",
       "\t<li>'tei'</li>\n",
       "</ol>\n"
      ],
      "text/latex": [
       "\\begin{enumerate*}\n",
       "\\item 'dudit'\n",
       "\\item 'audit'\n",
       "\\item 'gad'\n",
       "\\item 'phq'\n",
       "\\item 'tei'\n",
       "\\end{enumerate*}\n"
      ],
      "text/markdown": [
       "1. 'dudit'\n",
       "2. 'audit'\n",
       "3. 'gad'\n",
       "4. 'phq'\n",
       "5. 'tei'\n",
       "\n",
       "\n"
      ],
      "text/plain": [
       "[1] \"dudit\" \"audit\" \"gad\"   \"phq\"   \"tei\"  "
      ]
     },
     "metadata": {},
     "output_type": "display_data"
    }
   ],
   "source": [
    "mat <- tei[70:74]\n",
    "names(mat)"
   ]
  },
  {
   "cell_type": "code",
   "execution_count": 6,
   "metadata": {},
   "outputs": [
    {
     "data": {
      "text/html": [
       "<table>\n",
       "<thead><tr><th></th><th scope=col>dudit</th><th scope=col>audit</th><th scope=col>gad</th><th scope=col>phq</th></tr></thead>\n",
       "<tbody>\n",
       "\t<tr><th scope=row>dudit</th><td>        </td><td>        </td><td>        </td><td>        </td></tr>\n",
       "\t<tr><th scope=row>audit</th><td> 0.39***</td><td>        </td><td>        </td><td>        </td></tr>\n",
       "\t<tr><th scope=row>gad</th><td> 0.17*  </td><td> 0.09   </td><td>        </td><td>        </td></tr>\n",
       "\t<tr><th scope=row>phq</th><td> 0.30***</td><td> 0.14   </td><td> 0.73***</td><td>        </td></tr>\n",
       "\t<tr><th scope=row>tei</th><td>-0.26***</td><td>-0.09   </td><td>-0.62***</td><td>-0.70***</td></tr>\n",
       "</tbody>\n",
       "</table>\n"
      ],
      "text/latex": [
       "\\begin{tabular}{r|llll}\n",
       "  & dudit & audit & gad & phq\\\\\n",
       "\\hline\n",
       "\tdudit &          &          &          &         \\\\\n",
       "\taudit &  0.39*** &          &          &         \\\\\n",
       "\tgad &  0.17*   &  0.09    &          &         \\\\\n",
       "\tphq &  0.30*** &  0.14    &  0.73*** &         \\\\\n",
       "\ttei & -0.26*** & -0.09    & -0.62*** & -0.70***\\\\\n",
       "\\end{tabular}\n"
      ],
      "text/markdown": [
       "\n",
       "| <!--/--> | dudit | audit | gad | phq | \n",
       "|---|---|---|---|---|\n",
       "| dudit |          |          |          |          | \n",
       "| audit |  0.39*** |          |          |          | \n",
       "| gad |  0.17*   |  0.09    |          |          | \n",
       "| phq |  0.30*** |  0.14    |  0.73*** |          | \n",
       "| tei | -0.26*** | -0.09    | -0.62*** | -0.70*** | \n",
       "\n",
       "\n"
      ],
      "text/plain": [
       "      dudit    audit  gad      phq     \n",
       "dudit                                  \n",
       "audit  0.39***                         \n",
       "gad    0.17*    0.09                   \n",
       "phq    0.30***  0.14   0.73***         \n",
       "tei   -0.26*** -0.09  -0.62*** -0.70***"
      ]
     },
     "metadata": {},
     "output_type": "display_data"
    }
   ],
   "source": [
    "corstars <- function(x, type=\"spearman\"){ \n",
    "require(Hmisc) \n",
    "x <- as.matrix(x) \n",
    "R <- rcorr(x, type=\"spearman\")$r \n",
    "p <- rcorr(x, type=\"spearman\")$P \n",
    "\n",
    "## define notions for significance levels; spacing is important.\n",
    "mystars <- ifelse(p < .001, \"***\", ifelse(p < .01, \"** \", ifelse(p < .05, \"* \", \" \")))\n",
    "\n",
    "## trunctuate the matrix that holds the correlations to two decimal\n",
    "R <- format(round(cbind(rep(-1.11, ncol(x)), R), 2))[,-1] \n",
    "\n",
    "## build a new matrix that includes the correlations with their apropriate stars \n",
    "Rnew <- matrix(paste(R, mystars, sep=\"\"), ncol=ncol(x)) \n",
    "diag(Rnew) <- paste(diag(R), \" \", sep=\"\") \n",
    "rownames(Rnew) <- colnames(x) \n",
    "colnames(Rnew) <- paste(colnames(x), \"\", sep=\"\") \n",
    "\n",
    "## remove upper triangle\n",
    "Rnew <- as.matrix(Rnew)\n",
    "Rnew[upper.tri(Rnew, diag = TRUE)] <- \"\"\n",
    "Rnew <- as.data.frame(Rnew) \n",
    "\n",
    "## remove last column and return the matrix (which is now a data frame)\n",
    "Rnew <- cbind(Rnew[1:length(Rnew)-1])\n",
    "return(Rnew) \n",
    "}\n",
    "\n",
    "corstars(mat)"
   ]
  },
  {
   "cell_type": "markdown",
   "metadata": {},
   "source": [
    "As the data for four of the variables are positively skewed a Spearman's rho correlation was carried out to look at the relationship between TEI total scores and DUDIT, AUDIT, GAD & PHQ, The correlations show that there is a significant relationship between DUDIT, GAD and PHQ, however, not for AUDIT. This suggests that participants that reported higher levels of TEI also reported lower levels of depression, anxiety and drug use. However, as causation cannot be established with a correlation it is unknown whether higher levels of TEI act as a protective factor against developing these problems or whether having lower levels of depression, anxiety and drug use lead to having higher TEI.\n",
    "\n",
    "Therefore, to test this relationship regression was conducted. As the data for DUDIT, AUDIT, PHQ and GAD are positively skewed, Negative binomial regressions were carried out, as this demonstrated to be the best fit for the data (Neal & Simons, 2007). The incidence rate ratios (IRR) and significance are reported. IRR are the exponentiated regression coefficients (Cox & Bates, 2011) and can be interpreted as a one unit increase in the factors of the variable (predictor) represents an increase in TEIQUE-SF (outcome variable). If the IRR is less than one this represents a decrease in the outcome variable."
   ]
  },
  {
   "cell_type": "code",
   "execution_count": 7,
   "metadata": {},
   "outputs": [
    {
     "data": {
      "text/plain": [
       "\n",
       "Call:\n",
       "glm.nb(formula = tei ~ dudit + audit + phq + gad, data = tei, \n",
       "    init.theta = 56.86293163, link = log)\n",
       "\n",
       "Deviance Residuals: \n",
       "     Min        1Q    Median        3Q       Max  \n",
       "-2.85495  -0.64783   0.08085   0.68324   2.73634  \n",
       "\n",
       "Coefficients:\n",
       "             Estimate Std. Error z value Pr(>|z|)    \n",
       "(Intercept)  5.143759   0.025203 204.094  < 2e-16 ***\n",
       "dudit       -0.002151   0.002110  -1.020  0.30789    \n",
       "audit       -0.001441   0.002299  -0.627  0.53078    \n",
       "phq         -0.014203   0.002535  -5.603  2.1e-08 ***\n",
       "gad         -0.010018   0.003088  -3.244  0.00118 ** \n",
       "---\n",
       "Signif. codes:  0 ‘***’ 0.001 ‘**’ 0.01 ‘*’ 0.05 ‘.’ 0.1 ‘ ’ 1\n",
       "\n",
       "(Dispersion parameter for Negative Binomial(56.8629) family taken to be 1)\n",
       "\n",
       "    Null deviance: 364.06  on 178  degrees of freedom\n",
       "Residual deviance: 183.42  on 174  degrees of freedom\n",
       "AIC: 1610.1\n",
       "\n",
       "Number of Fisher Scoring iterations: 1\n",
       "\n",
       "\n",
       "              Theta:  56.86 \n",
       "          Std. Err.:  8.80 \n",
       "\n",
       " 2 x log-likelihood:  -1598.086 "
      ]
     },
     "metadata": {},
     "output_type": "display_data"
    },
    {
     "name": "stderr",
     "output_type": "stream",
     "text": [
      "Waiting for profiling to be done...\n"
     ]
    },
    {
     "data": {
      "text/html": [
       "<table>\n",
       "<thead><tr><th></th><th scope=col>2.5 %</th><th scope=col>97.5 %</th></tr></thead>\n",
       "<tbody>\n",
       "\t<tr><th scope=row>(Intercept)</th><td> 5.094444760</td><td> 5.193234678</td></tr>\n",
       "\t<tr><th scope=row>dudit</th><td>-0.006263600</td><td> 0.001979743</td></tr>\n",
       "\t<tr><th scope=row>audit</th><td>-0.005937788</td><td> 0.003069393</td></tr>\n",
       "\t<tr><th scope=row>phq</th><td>-0.019158221</td><td>-0.009246517</td></tr>\n",
       "\t<tr><th scope=row>gad</th><td>-0.016125992</td><td>-0.003911134</td></tr>\n",
       "</tbody>\n",
       "</table>\n"
      ],
      "text/latex": [
       "\\begin{tabular}{r|ll}\n",
       "  & 2.5 \\% & 97.5 \\%\\\\\n",
       "\\hline\n",
       "\t(Intercept) &  5.094444760 &  5.193234678\\\\\n",
       "\tdudit & -0.006263600 &  0.001979743\\\\\n",
       "\taudit & -0.005937788 &  0.003069393\\\\\n",
       "\tphq & -0.019158221 & -0.009246517\\\\\n",
       "\tgad & -0.016125992 & -0.003911134\\\\\n",
       "\\end{tabular}\n"
      ],
      "text/markdown": [
       "\n",
       "| <!--/--> | 2.5 % | 97.5 % | \n",
       "|---|---|---|---|---|\n",
       "| (Intercept) |  5.094444760 |  5.193234678 | \n",
       "| dudit | -0.006263600 |  0.001979743 | \n",
       "| audit | -0.005937788 |  0.003069393 | \n",
       "| phq | -0.019158221 | -0.009246517 | \n",
       "| gad | -0.016125992 | -0.003911134 | \n",
       "\n",
       "\n"
      ],
      "text/plain": [
       "            2.5 %        97.5 %      \n",
       "(Intercept)  5.094444760  5.193234678\n",
       "dudit       -0.006263600  0.001979743\n",
       "audit       -0.005937788  0.003069393\n",
       "phq         -0.019158221 -0.009246517\n",
       "gad         -0.016125992 -0.003911134"
      ]
     },
     "metadata": {},
     "output_type": "display_data"
    },
    {
     "data": {
      "text/plain": [
       "\n",
       "Call:\n",
       "glm.nb(formula = dudit ~ tei, data = tei, init.theta = 0.1515348203, \n",
       "    link = log)\n",
       "\n",
       "Deviance Residuals: \n",
       "     Min        1Q    Median        3Q       Max  \n",
       "-1.11864  -0.96751  -0.87082   0.06035   1.50828  \n",
       "\n",
       "Coefficients:\n",
       "             Estimate Std. Error z value Pr(>|z|)    \n",
       "(Intercept)  3.339259   0.919135   3.633  0.00028 ***\n",
       "tei         -0.017131   0.006772  -2.530  0.01142 *  \n",
       "---\n",
       "Signif. codes:  0 ‘***’ 0.001 ‘**’ 0.01 ‘*’ 0.05 ‘.’ 0.1 ‘ ’ 1\n",
       "\n",
       "(Dispersion parameter for Negative Binomial(0.1515) family taken to be 1)\n",
       "\n",
       "    Null deviance: 133.44  on 178  degrees of freedom\n",
       "Residual deviance: 126.25  on 177  degrees of freedom\n",
       "AIC: 643.82\n",
       "\n",
       "Number of Fisher Scoring iterations: 1\n",
       "\n",
       "\n",
       "              Theta:  0.1515 \n",
       "          Std. Err.:  0.0249 \n",
       "\n",
       " 2 x log-likelihood:  -637.8210 "
      ]
     },
     "metadata": {},
     "output_type": "display_data"
    },
    {
     "name": "stderr",
     "output_type": "stream",
     "text": [
      "Waiting for profiling to be done...\n"
     ]
    },
    {
     "data": {
      "text/html": [
       "<table>\n",
       "<thead><tr><th></th><th scope=col>2.5 %</th><th scope=col>97.5 %</th></tr></thead>\n",
       "<tbody>\n",
       "\t<tr><th scope=row>(Intercept)</th><td> 1.69602903 </td><td> 5.151505472</td></tr>\n",
       "\t<tr><th scope=row>tei</th><td>-0.03000813 </td><td>-0.004577054</td></tr>\n",
       "</tbody>\n",
       "</table>\n"
      ],
      "text/latex": [
       "\\begin{tabular}{r|ll}\n",
       "  & 2.5 \\% & 97.5 \\%\\\\\n",
       "\\hline\n",
       "\t(Intercept) &  1.69602903  &  5.151505472\\\\\n",
       "\ttei & -0.03000813  & -0.004577054\\\\\n",
       "\\end{tabular}\n"
      ],
      "text/markdown": [
       "\n",
       "| <!--/--> | 2.5 % | 97.5 % | \n",
       "|---|---|\n",
       "| (Intercept) |  1.69602903  |  5.151505472 | \n",
       "| tei | -0.03000813  | -0.004577054 | \n",
       "\n",
       "\n"
      ],
      "text/plain": [
       "            2.5 %       97.5 %      \n",
       "(Intercept)  1.69602903  5.151505472\n",
       "tei         -0.03000813 -0.004577054"
      ]
     },
     "metadata": {},
     "output_type": "display_data"
    }
   ],
   "source": [
    "model1 <- glm.nb(tei ~ dudit + audit + phq + gad, data = tei)\n",
    "summary(model1)\n",
    "confint(model1)\n",
    "\n",
    "model2 <- glm.nb(dudit ~ tei, data = tei)\n",
    "summary(model2)\n",
    "confint(model2)"
   ]
  },
  {
   "cell_type": "markdown",
   "metadata": {},
   "source": [
    "Model 1 was used to predict what variables have a significant effect on predicting TEI. The model shows that PHQ  (IRR= -5.60, p<.001, 95% CI -0.01, -0.009) and GAD (IRR= -3.244, p=.001, 95% CI -0.01, -0.003) are significant predictors of TEI, whereas, DUDIT and AUDIT are not significant predictors. This would suggest that having lower levels of depression and anxiety may lead to higher levels of TEI. Whereas, drug use may have the opposite effect whereby drug use does not predict TEI but TEI predicts drug use and may act as a protective factor against drug use or increased levels of drug uses.\n",
    "\n",
    "Model 2 shows that TEI does significantly predict drug use (IRR= -2.53, p=.01, 95% CI -0.03, -0.004). This suggests that higher levels of TEI may act as a protective factor against drug use.\n",
    "\n",
    "The next part of this project is to examine the four facets of TEI, Well-being, Self-control, Emotionality and Sociability. First, these need to be added to create the totals for each of the four facets."
   ]
  },
  {
   "cell_type": "code",
   "execution_count": 8,
   "metadata": {},
   "outputs": [
    {
     "data": {
      "text/html": [
       "<ol class=list-inline>\n",
       "\t<li>'Gender'</li>\n",
       "\t<li>'Age'</li>\n",
       "\t<li>'dudit1'</li>\n",
       "\t<li>'dudit2'</li>\n",
       "\t<li>'dudit3'</li>\n",
       "\t<li>'dudit4'</li>\n",
       "\t<li>'dudit5'</li>\n",
       "\t<li>'dudit6'</li>\n",
       "\t<li>'dudit7'</li>\n",
       "\t<li>'dudit8'</li>\n",
       "\t<li>'dudit9'</li>\n",
       "\t<li>'dudit10'</li>\n",
       "\t<li>'dudit11'</li>\n",
       "\t<li>'audit1'</li>\n",
       "\t<li>'audit2'</li>\n",
       "\t<li>'audit3'</li>\n",
       "\t<li>'audit4'</li>\n",
       "\t<li>'audit5'</li>\n",
       "\t<li>'audit6'</li>\n",
       "\t<li>'audit7'</li>\n",
       "\t<li>'audit8'</li>\n",
       "\t<li>'audit9'</li>\n",
       "\t<li>'audit10'</li>\n",
       "\t<li>'gad1'</li>\n",
       "\t<li>'gad2'</li>\n",
       "\t<li>'gad3'</li>\n",
       "\t<li>'gad4'</li>\n",
       "\t<li>'gad5'</li>\n",
       "\t<li>'gad6'</li>\n",
       "\t<li>'gad7'</li>\n",
       "\t<li>'phq1'</li>\n",
       "\t<li>'phq2'</li>\n",
       "\t<li>'phq3'</li>\n",
       "\t<li>'phq4'</li>\n",
       "\t<li>'phq5'</li>\n",
       "\t<li>'phq6'</li>\n",
       "\t<li>'phq7'</li>\n",
       "\t<li>'phq8'</li>\n",
       "\t<li>'phq9'</li>\n",
       "\t<li>'tei1'</li>\n",
       "\t<li>'tei2'</li>\n",
       "\t<li>'tei3'</li>\n",
       "\t<li>'tei4'</li>\n",
       "\t<li>'tei5'</li>\n",
       "\t<li>'tei6'</li>\n",
       "\t<li>'tei7'</li>\n",
       "\t<li>'tei8'</li>\n",
       "\t<li>'tei9'</li>\n",
       "\t<li>'tei10'</li>\n",
       "\t<li>'tei11'</li>\n",
       "\t<li>'tei12'</li>\n",
       "\t<li>'tei13'</li>\n",
       "\t<li>'tei14'</li>\n",
       "\t<li>'tei15'</li>\n",
       "\t<li>'tei16'</li>\n",
       "\t<li>'tei17'</li>\n",
       "\t<li>'tei18'</li>\n",
       "\t<li>'tei19'</li>\n",
       "\t<li>'tei20'</li>\n",
       "\t<li>'tei21'</li>\n",
       "\t<li>'tei22'</li>\n",
       "\t<li>'tei23'</li>\n",
       "\t<li>'tei24'</li>\n",
       "\t<li>'tei25'</li>\n",
       "\t<li>'tei26'</li>\n",
       "\t<li>'tei27'</li>\n",
       "\t<li>'tei28'</li>\n",
       "\t<li>'tei29'</li>\n",
       "\t<li>'tei30'</li>\n",
       "\t<li>'dudit'</li>\n",
       "\t<li>'audit'</li>\n",
       "\t<li>'gad'</li>\n",
       "\t<li>'phq'</li>\n",
       "\t<li>'tei'</li>\n",
       "\t<li>'Well_being'</li>\n",
       "\t<li>'Self_control'</li>\n",
       "\t<li>'Emotionality'</li>\n",
       "\t<li>'Sociability'</li>\n",
       "</ol>\n"
      ],
      "text/latex": [
       "\\begin{enumerate*}\n",
       "\\item 'Gender'\n",
       "\\item 'Age'\n",
       "\\item 'dudit1'\n",
       "\\item 'dudit2'\n",
       "\\item 'dudit3'\n",
       "\\item 'dudit4'\n",
       "\\item 'dudit5'\n",
       "\\item 'dudit6'\n",
       "\\item 'dudit7'\n",
       "\\item 'dudit8'\n",
       "\\item 'dudit9'\n",
       "\\item 'dudit10'\n",
       "\\item 'dudit11'\n",
       "\\item 'audit1'\n",
       "\\item 'audit2'\n",
       "\\item 'audit3'\n",
       "\\item 'audit4'\n",
       "\\item 'audit5'\n",
       "\\item 'audit6'\n",
       "\\item 'audit7'\n",
       "\\item 'audit8'\n",
       "\\item 'audit9'\n",
       "\\item 'audit10'\n",
       "\\item 'gad1'\n",
       "\\item 'gad2'\n",
       "\\item 'gad3'\n",
       "\\item 'gad4'\n",
       "\\item 'gad5'\n",
       "\\item 'gad6'\n",
       "\\item 'gad7'\n",
       "\\item 'phq1'\n",
       "\\item 'phq2'\n",
       "\\item 'phq3'\n",
       "\\item 'phq4'\n",
       "\\item 'phq5'\n",
       "\\item 'phq6'\n",
       "\\item 'phq7'\n",
       "\\item 'phq8'\n",
       "\\item 'phq9'\n",
       "\\item 'tei1'\n",
       "\\item 'tei2'\n",
       "\\item 'tei3'\n",
       "\\item 'tei4'\n",
       "\\item 'tei5'\n",
       "\\item 'tei6'\n",
       "\\item 'tei7'\n",
       "\\item 'tei8'\n",
       "\\item 'tei9'\n",
       "\\item 'tei10'\n",
       "\\item 'tei11'\n",
       "\\item 'tei12'\n",
       "\\item 'tei13'\n",
       "\\item 'tei14'\n",
       "\\item 'tei15'\n",
       "\\item 'tei16'\n",
       "\\item 'tei17'\n",
       "\\item 'tei18'\n",
       "\\item 'tei19'\n",
       "\\item 'tei20'\n",
       "\\item 'tei21'\n",
       "\\item 'tei22'\n",
       "\\item 'tei23'\n",
       "\\item 'tei24'\n",
       "\\item 'tei25'\n",
       "\\item 'tei26'\n",
       "\\item 'tei27'\n",
       "\\item 'tei28'\n",
       "\\item 'tei29'\n",
       "\\item 'tei30'\n",
       "\\item 'dudit'\n",
       "\\item 'audit'\n",
       "\\item 'gad'\n",
       "\\item 'phq'\n",
       "\\item 'tei'\n",
       "\\item 'Well\\_being'\n",
       "\\item 'Self\\_control'\n",
       "\\item 'Emotionality'\n",
       "\\item 'Sociability'\n",
       "\\end{enumerate*}\n"
      ],
      "text/markdown": [
       "1. 'Gender'\n",
       "2. 'Age'\n",
       "3. 'dudit1'\n",
       "4. 'dudit2'\n",
       "5. 'dudit3'\n",
       "6. 'dudit4'\n",
       "7. 'dudit5'\n",
       "8. 'dudit6'\n",
       "9. 'dudit7'\n",
       "10. 'dudit8'\n",
       "11. 'dudit9'\n",
       "12. 'dudit10'\n",
       "13. 'dudit11'\n",
       "14. 'audit1'\n",
       "15. 'audit2'\n",
       "16. 'audit3'\n",
       "17. 'audit4'\n",
       "18. 'audit5'\n",
       "19. 'audit6'\n",
       "20. 'audit7'\n",
       "21. 'audit8'\n",
       "22. 'audit9'\n",
       "23. 'audit10'\n",
       "24. 'gad1'\n",
       "25. 'gad2'\n",
       "26. 'gad3'\n",
       "27. 'gad4'\n",
       "28. 'gad5'\n",
       "29. 'gad6'\n",
       "30. 'gad7'\n",
       "31. 'phq1'\n",
       "32. 'phq2'\n",
       "33. 'phq3'\n",
       "34. 'phq4'\n",
       "35. 'phq5'\n",
       "36. 'phq6'\n",
       "37. 'phq7'\n",
       "38. 'phq8'\n",
       "39. 'phq9'\n",
       "40. 'tei1'\n",
       "41. 'tei2'\n",
       "42. 'tei3'\n",
       "43. 'tei4'\n",
       "44. 'tei5'\n",
       "45. 'tei6'\n",
       "46. 'tei7'\n",
       "47. 'tei8'\n",
       "48. 'tei9'\n",
       "49. 'tei10'\n",
       "50. 'tei11'\n",
       "51. 'tei12'\n",
       "52. 'tei13'\n",
       "53. 'tei14'\n",
       "54. 'tei15'\n",
       "55. 'tei16'\n",
       "56. 'tei17'\n",
       "57. 'tei18'\n",
       "58. 'tei19'\n",
       "59. 'tei20'\n",
       "60. 'tei21'\n",
       "61. 'tei22'\n",
       "62. 'tei23'\n",
       "63. 'tei24'\n",
       "64. 'tei25'\n",
       "65. 'tei26'\n",
       "66. 'tei27'\n",
       "67. 'tei28'\n",
       "68. 'tei29'\n",
       "69. 'tei30'\n",
       "70. 'dudit'\n",
       "71. 'audit'\n",
       "72. 'gad'\n",
       "73. 'phq'\n",
       "74. 'tei'\n",
       "75. 'Well_being'\n",
       "76. 'Self_control'\n",
       "77. 'Emotionality'\n",
       "78. 'Sociability'\n",
       "\n",
       "\n"
      ],
      "text/plain": [
       " [1] \"Gender\"       \"Age\"          \"dudit1\"       \"dudit2\"       \"dudit3\"      \n",
       " [6] \"dudit4\"       \"dudit5\"       \"dudit6\"       \"dudit7\"       \"dudit8\"      \n",
       "[11] \"dudit9\"       \"dudit10\"      \"dudit11\"      \"audit1\"       \"audit2\"      \n",
       "[16] \"audit3\"       \"audit4\"       \"audit5\"       \"audit6\"       \"audit7\"      \n",
       "[21] \"audit8\"       \"audit9\"       \"audit10\"      \"gad1\"         \"gad2\"        \n",
       "[26] \"gad3\"         \"gad4\"         \"gad5\"         \"gad6\"         \"gad7\"        \n",
       "[31] \"phq1\"         \"phq2\"         \"phq3\"         \"phq4\"         \"phq5\"        \n",
       "[36] \"phq6\"         \"phq7\"         \"phq8\"         \"phq9\"         \"tei1\"        \n",
       "[41] \"tei2\"         \"tei3\"         \"tei4\"         \"tei5\"         \"tei6\"        \n",
       "[46] \"tei7\"         \"tei8\"         \"tei9\"         \"tei10\"        \"tei11\"       \n",
       "[51] \"tei12\"        \"tei13\"        \"tei14\"        \"tei15\"        \"tei16\"       \n",
       "[56] \"tei17\"        \"tei18\"        \"tei19\"        \"tei20\"        \"tei21\"       \n",
       "[61] \"tei22\"        \"tei23\"        \"tei24\"        \"tei25\"        \"tei26\"       \n",
       "[66] \"tei27\"        \"tei28\"        \"tei29\"        \"tei30\"        \"dudit\"       \n",
       "[71] \"audit\"        \"gad\"          \"phq\"          \"tei\"          \"Well_being\"  \n",
       "[76] \"Self_control\" \"Emotionality\" \"Sociability\" "
      ]
     },
     "metadata": {},
     "output_type": "display_data"
    }
   ],
   "source": [
    "tei$Well_being <- tei$tei5 + tei$tei20 + tei$tei9 + tei$tei24 + tei$tei12 + tei$tei27\n",
    "tei$Self_control <- tei$tei4 + tei$tei19 + tei$tei7 + tei$tei22 + tei$tei15 + tei$tei30\n",
    "tei$Emotionality <- tei$tei1 + tei$tei16 + tei$tei2 + tei$tei17 + tei$tei8 + tei$tei23 + tei$tei13 + tei$tei28\n",
    "tei$Sociability <- tei$tei6 + tei$tei21 + tei$tei10 + tei$tei25 + tei$tei11 + tei$tei26\n",
    "\n",
    "names(tei)"
   ]
  },
  {
   "cell_type": "code",
   "execution_count": 9,
   "metadata": {},
   "outputs": [
    {
     "data": {
      "image/png": "[encoded data removed]",
      "text/plain": [
       "Plot with title “Sociability”"
      ]
     },
     "metadata": {},
     "output_type": "display_data"
    }
   ],
   "source": [
    "par(mfrow=c(2,2))\n",
    "par(mar=c(3, 4.5, 1.5, 3))\n",
    "hist(tei$Well_being, col=\"grey\", ylim= c(0, 40), main=\"Well Being\", xlab=\"Well Being\")\n",
    "hist(tei$Self_control, col=\"grey\", ylim= c(0, 60), main=\"Self Control\", xlab=\"Self Control\")\n",
    "hist(tei$Emotionality, col=\"grey\", ylim= c(0, 60), main=\"Emotionality\", xlab=\"Emotionality\")\n",
    "hist(tei$Sociability, col=\"grey\", ylim= c(0, 60), main=\"Sociability\", xlab=\"Sociability\")"
   ]
  },
  {
   "cell_type": "markdown",
   "metadata": {},
   "source": [
    "Each of the four facets of TEI will be used to predict each of the four variables in turn."
   ]
  },
  {
   "cell_type": "code",
   "execution_count": 10,
   "metadata": {},
   "outputs": [
    {
     "data": {
      "text/plain": [
       "\n",
       "Call:\n",
       "lm(formula = dudit ~ Well_being + Self_control + Emotionality + \n",
       "    Sociability, data = tei)\n",
       "\n",
       "Residuals:\n",
       "    Min      1Q  Median      3Q     Max \n",
       "-7.0143 -3.4559 -1.6675  0.9722 28.2837 \n",
       "\n",
       "Coefficients:\n",
       "             Estimate Std. Error t value Pr(>|t|)    \n",
       "(Intercept)   9.84571    2.49569   3.945 0.000116 ***\n",
       "Well_being   -0.19242    0.07737  -2.487 0.013819 *  \n",
       "Self_control -0.09747    0.09589  -1.016 0.310817    \n",
       "Emotionality -0.08284    0.06882  -1.204 0.230299    \n",
       "Sociability   0.15492    0.09671   1.602 0.110992    \n",
       "---\n",
       "Signif. codes:  0 ‘***’ 0.001 ‘**’ 0.01 ‘*’ 0.05 ‘.’ 0.1 ‘ ’ 1\n",
       "\n",
       "Residual standard error: 6.402 on 174 degrees of freedom\n",
       "Multiple R-squared:  0.1025,\tAdjusted R-squared:  0.08189 \n",
       "F-statistic: 4.969 on 4 and 174 DF,  p-value: 0.0008117\n"
      ]
     },
     "metadata": {},
     "output_type": "display_data"
    },
    {
     "data": {
      "text/html": [
       "<table>\n",
       "<thead><tr><th></th><th scope=col>2.5 %</th><th scope=col>97.5 %</th></tr></thead>\n",
       "<tbody>\n",
       "\t<tr><th scope=row>(Intercept)</th><td> 4.91999665</td><td>14.77142759</td></tr>\n",
       "\t<tr><th scope=row>Well_being</th><td>-0.34511921</td><td>-0.03972461</td></tr>\n",
       "\t<tr><th scope=row>Self_control</th><td>-0.28673739</td><td> 0.09179132</td></tr>\n",
       "\t<tr><th scope=row>Emotionality</th><td>-0.21866302</td><td> 0.05298040</td></tr>\n",
       "\t<tr><th scope=row>Sociability</th><td>-0.03595601</td><td> 0.34579248</td></tr>\n",
       "</tbody>\n",
       "</table>\n"
      ],
      "text/latex": [
       "\\begin{tabular}{r|ll}\n",
       "  & 2.5 \\% & 97.5 \\%\\\\\n",
       "\\hline\n",
       "\t(Intercept) &  4.91999665 & 14.77142759\\\\\n",
       "\tWell\\_being & -0.34511921 & -0.03972461\\\\\n",
       "\tSelf\\_control & -0.28673739 &  0.09179132\\\\\n",
       "\tEmotionality & -0.21866302 &  0.05298040\\\\\n",
       "\tSociability & -0.03595601 &  0.34579248\\\\\n",
       "\\end{tabular}\n"
      ],
      "text/markdown": [
       "\n",
       "| <!--/--> | 2.5 % | 97.5 % | \n",
       "|---|---|---|---|---|\n",
       "| (Intercept) |  4.91999665 | 14.77142759 | \n",
       "| Well_being | -0.34511921 | -0.03972461 | \n",
       "| Self_control | -0.28673739 |  0.09179132 | \n",
       "| Emotionality | -0.21866302 |  0.05298040 | \n",
       "| Sociability | -0.03595601 |  0.34579248 | \n",
       "\n",
       "\n"
      ],
      "text/plain": [
       "             2.5 %       97.5 %     \n",
       "(Intercept)   4.91999665 14.77142759\n",
       "Well_being   -0.34511921 -0.03972461\n",
       "Self_control -0.28673739  0.09179132\n",
       "Emotionality -0.21866302  0.05298040\n",
       "Sociability  -0.03595601  0.34579248"
      ]
     },
     "metadata": {},
     "output_type": "display_data"
    }
   ],
   "source": [
    "fitdudit <- lm(dudit ~ Well_being + Self_control + Emotionality + Sociability, data = tei)\n",
    "summary(fitdudit)\n",
    "confint(fitdudit)"
   ]
  },
  {
   "cell_type": "markdown",
   "metadata": {},
   "source": [
    "The model shows that Well_being (*b*=-0.19, *t*(174) = -2.48, *p* = .01) is a significant predictor for DUDIT, this is also supported by the 95% confidence interval (-0.34, -0.03) indicating that this variable is significant. There were no other significant predicts for dudit. Although, the data does suggest that there may be a relationship between drug use and sociability, although not significant in this model."
   ]
  },
  {
   "cell_type": "code",
   "execution_count": 11,
   "metadata": {},
   "outputs": [
    {
     "data": {
      "text/plain": [
       "\n",
       "Call:\n",
       "lm(formula = audit ~ Well_being + Self_control + Emotionality + \n",
       "    Sociability, data = tei)\n",
       "\n",
       "Residuals:\n",
       "   Min     1Q Median     3Q    Max \n",
       "-9.750 -4.238 -1.123  2.655 16.101 \n",
       "\n",
       "Coefficients:\n",
       "             Estimate Std. Error t value Pr(>|t|)    \n",
       "(Intercept)  11.46542    2.19852   5.215 5.17e-07 ***\n",
       "Well_being    0.03432    0.06815   0.504   0.6152    \n",
       "Self_control -0.17971    0.08448  -2.127   0.0348 *  \n",
       "Emotionality -0.10078    0.06062  -1.662   0.0982 .  \n",
       "Sociability   0.08994    0.08519   1.056   0.2926    \n",
       "---\n",
       "Signif. codes:  0 ‘***’ 0.001 ‘**’ 0.01 ‘*’ 0.05 ‘.’ 0.1 ‘ ’ 1\n",
       "\n",
       "Residual standard error: 5.64 on 174 degrees of freedom\n",
       "Multiple R-squared:  0.05247,\tAdjusted R-squared:  0.03069 \n",
       "F-statistic: 2.409 on 4 and 174 DF,  p-value: 0.05116\n"
      ]
     },
     "metadata": {},
     "output_type": "display_data"
    },
    {
     "data": {
      "text/html": [
       "<table>\n",
       "<thead><tr><th></th><th scope=col>2.5 %</th><th scope=col>97.5 %</th></tr></thead>\n",
       "<tbody>\n",
       "\t<tr><th scope=row>(Intercept)</th><td> 7.12622371</td><td>15.80461508</td></tr>\n",
       "\t<tr><th scope=row>Well_being</th><td>-0.10019816</td><td> 0.16883219</td></tr>\n",
       "\t<tr><th scope=row>Self_control</th><td>-0.34643837</td><td>-0.01298222</td></tr>\n",
       "\t<tr><th scope=row>Emotionality</th><td>-0.22042863</td><td> 0.01886939</td></tr>\n",
       "\t<tr><th scope=row>Sociability</th><td>-0.07821085</td><td> 0.25808169</td></tr>\n",
       "</tbody>\n",
       "</table>\n"
      ],
      "text/latex": [
       "\\begin{tabular}{r|ll}\n",
       "  & 2.5 \\% & 97.5 \\%\\\\\n",
       "\\hline\n",
       "\t(Intercept) &  7.12622371 & 15.80461508\\\\\n",
       "\tWell\\_being & -0.10019816 &  0.16883219\\\\\n",
       "\tSelf\\_control & -0.34643837 & -0.01298222\\\\\n",
       "\tEmotionality & -0.22042863 &  0.01886939\\\\\n",
       "\tSociability & -0.07821085 &  0.25808169\\\\\n",
       "\\end{tabular}\n"
      ],
      "text/markdown": [
       "\n",
       "| <!--/--> | 2.5 % | 97.5 % | \n",
       "|---|---|---|---|---|\n",
       "| (Intercept) |  7.12622371 | 15.80461508 | \n",
       "| Well_being | -0.10019816 |  0.16883219 | \n",
       "| Self_control | -0.34643837 | -0.01298222 | \n",
       "| Emotionality | -0.22042863 |  0.01886939 | \n",
       "| Sociability | -0.07821085 |  0.25808169 | \n",
       "\n",
       "\n"
      ],
      "text/plain": [
       "             2.5 %       97.5 %     \n",
       "(Intercept)   7.12622371 15.80461508\n",
       "Well_being   -0.10019816  0.16883219\n",
       "Self_control -0.34643837 -0.01298222\n",
       "Emotionality -0.22042863  0.01886939\n",
       "Sociability  -0.07821085  0.25808169"
      ]
     },
     "metadata": {},
     "output_type": "display_data"
    }
   ],
   "source": [
    "fitNB <- lm(audit ~ Well_being + Self_control + Emotionality + Sociability, data = tei)\n",
    "summary(fitNB)\n",
    "confint(fitNB)"
   ]
  },
  {
   "cell_type": "markdown",
   "metadata": {},
   "source": [
    "For alcohol use Self control was a significant (*b*= -0.17, *t*(174) = -2.12, *p*=.03, 95% CI -0.34, -0.01). This indicates that participants that had reported lower levels of self-control also reported higher levels of alcohol use. No other predictors were significant."
   ]
  },
  {
   "cell_type": "code",
   "execution_count": 12,
   "metadata": {},
   "outputs": [
    {
     "data": {
      "text/plain": [
       "\n",
       "Call:\n",
       "lm(formula = gad ~ Well_being + Self_control + Emotionality + \n",
       "    Sociability, data = tei)\n",
       "\n",
       "Residuals:\n",
       "     Min       1Q   Median       3Q      Max \n",
       "-12.4998  -2.6310   0.0938   2.8753  12.8349 \n",
       "\n",
       "Coefficients:\n",
       "             Estimate Std. Error t value Pr(>|t|)    \n",
       "(Intercept)  21.69090    1.64401  13.194  < 2e-16 ***\n",
       "Well_being   -0.27963    0.05096  -5.487 1.43e-07 ***\n",
       "Self_control -0.32108    0.06317  -5.083 9.53e-07 ***\n",
       "Emotionality  0.08064    0.04533   1.779    0.077 .  \n",
       "Sociability  -0.01980    0.06371  -0.311    0.756    \n",
       "---\n",
       "Signif. codes:  0 ‘***’ 0.001 ‘**’ 0.01 ‘*’ 0.05 ‘.’ 0.1 ‘ ’ 1\n",
       "\n",
       "Residual standard error: 4.217 on 174 degrees of freedom\n",
       "Multiple R-squared:  0.4958,\tAdjusted R-squared:  0.4842 \n",
       "F-statistic: 42.78 on 4 and 174 DF,  p-value: < 2.2e-16\n"
      ]
     },
     "metadata": {},
     "output_type": "display_data"
    },
    {
     "data": {
      "text/html": [
       "<table>\n",
       "<thead><tr><th></th><th scope=col>2.5 %</th><th scope=col>97.5 %</th></tr></thead>\n",
       "<tbody>\n",
       "\t<tr><th scope=row>(Intercept)</th><td>18.446128876</td><td>24.9356779  </td></tr>\n",
       "\t<tr><th scope=row>Well_being</th><td>-0.380217901</td><td>-0.1790417  </td></tr>\n",
       "\t<tr><th scope=row>Self_control</th><td>-0.445757256</td><td>-0.1964046  </td></tr>\n",
       "\t<tr><th scope=row>Emotionality</th><td>-0.008827275</td><td> 0.1701156  </td></tr>\n",
       "\t<tr><th scope=row>Sociability</th><td>-0.145536068</td><td> 0.1059376  </td></tr>\n",
       "</tbody>\n",
       "</table>\n"
      ],
      "text/latex": [
       "\\begin{tabular}{r|ll}\n",
       "  & 2.5 \\% & 97.5 \\%\\\\\n",
       "\\hline\n",
       "\t(Intercept) & 18.446128876 & 24.9356779  \\\\\n",
       "\tWell\\_being & -0.380217901 & -0.1790417  \\\\\n",
       "\tSelf\\_control & -0.445757256 & -0.1964046  \\\\\n",
       "\tEmotionality & -0.008827275 &  0.1701156  \\\\\n",
       "\tSociability & -0.145536068 &  0.1059376  \\\\\n",
       "\\end{tabular}\n"
      ],
      "text/markdown": [
       "\n",
       "| <!--/--> | 2.5 % | 97.5 % | \n",
       "|---|---|---|---|---|\n",
       "| (Intercept) | 18.446128876 | 24.9356779   | \n",
       "| Well_being | -0.380217901 | -0.1790417   | \n",
       "| Self_control | -0.445757256 | -0.1964046   | \n",
       "| Emotionality | -0.008827275 |  0.1701156   | \n",
       "| Sociability | -0.145536068 |  0.1059376   | \n",
       "\n",
       "\n"
      ],
      "text/plain": [
       "             2.5 %        97.5 %    \n",
       "(Intercept)  18.446128876 24.9356779\n",
       "Well_being   -0.380217901 -0.1790417\n",
       "Self_control -0.445757256 -0.1964046\n",
       "Emotionality -0.008827275  0.1701156\n",
       "Sociability  -0.145536068  0.1059376"
      ]
     },
     "metadata": {},
     "output_type": "display_data"
    }
   ],
   "source": [
    "fitgad <- lm(gad ~  Well_being + Self_control + Emotionality + Sociability, data=tei)\n",
    "summary(fitgad)\n",
    "confint(fitgad)"
   ]
  },
  {
   "cell_type": "markdown",
   "metadata": {},
   "source": [
    "The data for GAD show that Well being and Self-control were significant predictors of symptoms of anxiety. The model shows that individuals that reported higher levels of Wellbeing reported lower levels of anxiety (*b* = -0.27, *t*(174) = -5.48, *p* < .001, 95% CI -0.38, -0.17). The model also shows that Self-control is a significant predictor *b* = -.32, *t*(174) = -5.08, *p* < .001, 95% CI -0.44, -0.19), suggesting that participants that reported higher levels of self-control reported lower levels of anxiety."
   ]
  },
  {
   "cell_type": "code",
   "execution_count": 13,
   "metadata": {},
   "outputs": [
    {
     "data": {
      "text/plain": [
       "\n",
       "Call:\n",
       "lm(formula = phq ~ Well_being + Self_control + Emotionality + \n",
       "    Sociability, data = tei)\n",
       "\n",
       "Residuals:\n",
       "     Min       1Q   Median       3Q      Max \n",
       "-12.2479  -2.9102  -0.4218   2.7187  13.0511 \n",
       "\n",
       "Coefficients:\n",
       "             Estimate Std. Error t value Pr(>|t|)    \n",
       "(Intercept)  28.23393    1.89552  14.895  < 2e-16 ***\n",
       "Well_being   -0.52959    0.05876  -9.013 3.54e-16 ***\n",
       "Self_control -0.24620    0.07283  -3.380 0.000894 ***\n",
       "Emotionality  0.05987    0.05227   1.145 0.253622    \n",
       "Sociability   0.03064    0.07345   0.417 0.677048    \n",
       "---\n",
       "Signif. codes:  0 ‘***’ 0.001 ‘**’ 0.01 ‘*’ 0.05 ‘.’ 0.1 ‘ ’ 1\n",
       "\n",
       "Residual standard error: 4.862 on 174 degrees of freedom\n",
       "Multiple R-squared:  0.5856,\tAdjusted R-squared:  0.5761 \n",
       "F-statistic: 61.47 on 4 and 174 DF,  p-value: < 2.2e-16\n"
      ]
     },
     "metadata": {},
     "output_type": "display_data"
    },
    {
     "data": {
      "text/html": [
       "<table>\n",
       "<thead><tr><th></th><th scope=col>2.5 %</th><th scope=col>97.5 %</th></tr></thead>\n",
       "<tbody>\n",
       "\t<tr><th scope=row>(Intercept)</th><td>24.49276660</td><td>31.9750901 </td></tr>\n",
       "\t<tr><th scope=row>Well_being</th><td>-0.64557061</td><td>-0.4136184 </td></tr>\n",
       "\t<tr><th scope=row>Self_control</th><td>-0.38994616</td><td>-0.1024474 </td></tr>\n",
       "\t<tr><th scope=row>Emotionality</th><td>-0.04329298</td><td> 0.1630247 </td></tr>\n",
       "\t<tr><th scope=row>Sociability</th><td>-0.11432795</td><td> 0.1756163 </td></tr>\n",
       "</tbody>\n",
       "</table>\n"
      ],
      "text/latex": [
       "\\begin{tabular}{r|ll}\n",
       "  & 2.5 \\% & 97.5 \\%\\\\\n",
       "\\hline\n",
       "\t(Intercept) & 24.49276660 & 31.9750901 \\\\\n",
       "\tWell\\_being & -0.64557061 & -0.4136184 \\\\\n",
       "\tSelf\\_control & -0.38994616 & -0.1024474 \\\\\n",
       "\tEmotionality & -0.04329298 &  0.1630247 \\\\\n",
       "\tSociability & -0.11432795 &  0.1756163 \\\\\n",
       "\\end{tabular}\n"
      ],
      "text/markdown": [
       "\n",
       "| <!--/--> | 2.5 % | 97.5 % | \n",
       "|---|---|---|---|---|\n",
       "| (Intercept) | 24.49276660 | 31.9750901  | \n",
       "| Well_being | -0.64557061 | -0.4136184  | \n",
       "| Self_control | -0.38994616 | -0.1024474  | \n",
       "| Emotionality | -0.04329298 |  0.1630247  | \n",
       "| Sociability | -0.11432795 |  0.1756163  | \n",
       "\n",
       "\n"
      ],
      "text/plain": [
       "             2.5 %       97.5 %    \n",
       "(Intercept)  24.49276660 31.9750901\n",
       "Well_being   -0.64557061 -0.4136184\n",
       "Self_control -0.38994616 -0.1024474\n",
       "Emotionality -0.04329298  0.1630247\n",
       "Sociability  -0.11432795  0.1756163"
      ]
     },
     "metadata": {},
     "output_type": "display_data"
    }
   ],
   "source": [
    "fitphq <- lm(phq ~  Well_being + Self_control + Emotionality + Sociability, data=tei)\n",
    "summary(fitphq)\n",
    "confint(fitphq)"
   ]
  },
  {
   "cell_type": "markdown",
   "metadata": {},
   "source": [
    "The data for PHQ also shows that Well-being and Self-control were significant predictors of symptoms of depression. The model shows that well being was a significant predictor of depression *b* = -.52, *t*(174) = -9.01, *p* < .001, 95% CI -0.64, -0.41), suggesting that participants that reported higher levels of well-being reported lower levels of depressive symptoms. Self-control was also shown to be a significant predictor *b* = -.24, *t*(174) = -3.38, *p* < .001, 95% CI -0.38, -0.10), suggesting that participants that report higher levels of self-control reported lower levels of depression."
   ]
  },
  {
   "cell_type": "markdown",
   "metadata": {},
   "source": [
    "## Conclusion"
   ]
  },
  {
   "cell_type": "markdown",
   "metadata": {},
   "source": [
    "In summary, the data would suggest that there is a relationship between participants trait emotional intelligence and their emotional and physical states in relation to drug and alcohol use. The results show that participants with higher levels of TEI generally have lower levels of drug use, depression and anxiety, with depression and anxiety significantly predicting TEI.\n",
    "\n",
    "The second part of this project looked at the four facets of trait emotional intelligence Wellbeing, Self-control, Emotionality and Sociability. The results suggest that drug uses is significantly related to the participant's well-being. The data also indicates that self-control is significantly related to participants alcohol use. Anxiety and depression are both significantly related to Wellbeing and Self-control suggesting that participants that report higher level of self-control and Wellbeing reported lower levels of depression and anxiety."
   ]
  }
 ],
 "metadata": {
  "kernelspec": {
   "display_name": "R",
   "language": "R",
   "name": "ir"
  },
  "language_info": {
   "codemirror_mode": "r",
   "file_extension": ".r",
   "mimetype": "text/x-r-source",
   "name": "R",
   "pygments_lexer": "r",
   "version": "3.4.3"
  }
 },
 "nbformat": 4,
 "nbformat_minor": 2
}
